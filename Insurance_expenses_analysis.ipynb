{
  "nbformat": 4,
  "nbformat_minor": 0,
  "metadata": {
    "colab": {
      "provenance": [],
      "toc_visible": true
    },
    "kernelspec": {
      "name": "python3",
      "display_name": "Python 3"
    },
    "language_info": {
      "name": "python"
    }
  },
  "cells": [
    {
      "cell_type": "markdown",
      "source": [
        "# Libraries import"
      ],
      "metadata": {
        "id": "TdPPVuo3AHSM"
      }
    },
    {
      "cell_type": "code",
      "execution_count": null,
      "metadata": {
        "id": "XSuK6Q06_2-r"
      },
      "outputs": [],
      "source": [
        "import pandas as pd\n",
        "import seaborn as sns\n",
        "import matplotlib.pyplot as plt\n",
        "import numpy as np\n",
        "\n",
        "from scipy.stats import skew,kurtosis\n",
        "from scipy.special import boxcox1p\n",
        "\n",
        "from sklearn.preprocessing import OneHotEncoder, LabelEncoder\n",
        "\n",
        "from sklearn.model_selection import train_test_split\n",
        "\n",
        "from sklearn.preprocessing import StandardScaler\n",
        "from scipy.stats import ttest_ind"
      ]
    },
    {
      "cell_type": "markdown",
      "source": [
        "Load dataset from Google Drive"
      ],
      "metadata": {
        "id": "KRaYcK4jHHuT"
      }
    },
    {
      "cell_type": "code",
      "source": [
        "from google.colab import drive\n",
        "\n",
        "drive.mount('/content/drive')\n",
        "\n",
        "import pandas as pd\n",
        "import numpy as np\n",
        "\n",
        "df = pd.read_csv('/content/drive/My Drive/Datasets/insurance_data_reg.csv')"
      ],
      "metadata": {
        "colab": {
          "base_uri": "https://localhost:8080/"
        },
        "id": "iQNM9_iuAF_t",
        "outputId": "dbed57e4-c032-41ae-f86d-50bbafd41338"
      },
      "execution_count": null,
      "outputs": [
        {
          "output_type": "stream",
          "name": "stdout",
          "text": [
            "Mounted at /content/drive\n"
          ]
        }
      ]
    },
    {
      "cell_type": "markdown",
      "source": [
        "# Introdoction to dataset"
      ],
      "metadata": {
        "id": "lEy7MXmNIY_P"
      }
    },
    {
      "cell_type": "code",
      "source": [
        "df.head()"
      ],
      "metadata": {
        "colab": {
          "base_uri": "https://localhost:8080/",
          "height": 206
        },
        "id": "XS4-KzD6IMk0",
        "outputId": "a8a60a7c-bed7-4936-886b-94ffc946b52d"
      },
      "execution_count": null,
      "outputs": [
        {
          "output_type": "execute_result",
          "data": {
            "text/plain": [
              "         uid     sex   bmi  children smoker  expenses     weight    height  \\\n",
              "0  2987877.0  female  27.9         0    yes  16884.92  84.239175  1.829196   \n",
              "1  3334624.0    male  33.8         1     no   1725.55  96.367682  1.677255   \n",
              "2  2758278.0    male  33.0         3     no   4449.46  92.328023  1.585170   \n",
              "3  2352741.0    male  22.7         0     no  21984.47  61.590189  1.834498   \n",
              "4  3596946.0    male  28.9         0     no   3866.86  86.014975  1.538240   \n",
              "\n",
              "   birth_year has_car favorite_color     region  \n",
              "0        2005      no            red  southwest  \n",
              "1        2006      no            red  southeast  \n",
              "2        1996      no           blue  southeast  \n",
              "3        1991      no            red  northwest  \n",
              "4        1992      no           blue  northwest  "
            ],
            "text/html": [
              "\n",
              "  <div id=\"df-eea91860-696e-4c22-80e3-5ab52b7f65d4\" class=\"colab-df-container\">\n",
              "    <div>\n",
              "<style scoped>\n",
              "    .dataframe tbody tr th:only-of-type {\n",
              "        vertical-align: middle;\n",
              "    }\n",
              "\n",
              "    .dataframe tbody tr th {\n",
              "        vertical-align: top;\n",
              "    }\n",
              "\n",
              "    .dataframe thead th {\n",
              "        text-align: right;\n",
              "    }\n",
              "</style>\n",
              "<table border=\"1\" class=\"dataframe\">\n",
              "  <thead>\n",
              "    <tr style=\"text-align: right;\">\n",
              "      <th></th>\n",
              "      <th>uid</th>\n",
              "      <th>sex</th>\n",
              "      <th>bmi</th>\n",
              "      <th>children</th>\n",
              "      <th>smoker</th>\n",
              "      <th>expenses</th>\n",
              "      <th>weight</th>\n",
              "      <th>height</th>\n",
              "      <th>birth_year</th>\n",
              "      <th>has_car</th>\n",
              "      <th>favorite_color</th>\n",
              "      <th>region</th>\n",
              "    </tr>\n",
              "  </thead>\n",
              "  <tbody>\n",
              "    <tr>\n",
              "      <th>0</th>\n",
              "      <td>2987877.0</td>\n",
              "      <td>female</td>\n",
              "      <td>27.9</td>\n",
              "      <td>0</td>\n",
              "      <td>yes</td>\n",
              "      <td>16884.92</td>\n",
              "      <td>84.239175</td>\n",
              "      <td>1.829196</td>\n",
              "      <td>2005</td>\n",
              "      <td>no</td>\n",
              "      <td>red</td>\n",
              "      <td>southwest</td>\n",
              "    </tr>\n",
              "    <tr>\n",
              "      <th>1</th>\n",
              "      <td>3334624.0</td>\n",
              "      <td>male</td>\n",
              "      <td>33.8</td>\n",
              "      <td>1</td>\n",
              "      <td>no</td>\n",
              "      <td>1725.55</td>\n",
              "      <td>96.367682</td>\n",
              "      <td>1.677255</td>\n",
              "      <td>2006</td>\n",
              "      <td>no</td>\n",
              "      <td>red</td>\n",
              "      <td>southeast</td>\n",
              "    </tr>\n",
              "    <tr>\n",
              "      <th>2</th>\n",
              "      <td>2758278.0</td>\n",
              "      <td>male</td>\n",
              "      <td>33.0</td>\n",
              "      <td>3</td>\n",
              "      <td>no</td>\n",
              "      <td>4449.46</td>\n",
              "      <td>92.328023</td>\n",
              "      <td>1.585170</td>\n",
              "      <td>1996</td>\n",
              "      <td>no</td>\n",
              "      <td>blue</td>\n",
              "      <td>southeast</td>\n",
              "    </tr>\n",
              "    <tr>\n",
              "      <th>3</th>\n",
              "      <td>2352741.0</td>\n",
              "      <td>male</td>\n",
              "      <td>22.7</td>\n",
              "      <td>0</td>\n",
              "      <td>no</td>\n",
              "      <td>21984.47</td>\n",
              "      <td>61.590189</td>\n",
              "      <td>1.834498</td>\n",
              "      <td>1991</td>\n",
              "      <td>no</td>\n",
              "      <td>red</td>\n",
              "      <td>northwest</td>\n",
              "    </tr>\n",
              "    <tr>\n",
              "      <th>4</th>\n",
              "      <td>3596946.0</td>\n",
              "      <td>male</td>\n",
              "      <td>28.9</td>\n",
              "      <td>0</td>\n",
              "      <td>no</td>\n",
              "      <td>3866.86</td>\n",
              "      <td>86.014975</td>\n",
              "      <td>1.538240</td>\n",
              "      <td>1992</td>\n",
              "      <td>no</td>\n",
              "      <td>blue</td>\n",
              "      <td>northwest</td>\n",
              "    </tr>\n",
              "  </tbody>\n",
              "</table>\n",
              "</div>\n",
              "    <div class=\"colab-df-buttons\">\n",
              "\n",
              "  <div class=\"colab-df-container\">\n",
              "    <button class=\"colab-df-convert\" onclick=\"convertToInteractive('df-eea91860-696e-4c22-80e3-5ab52b7f65d4')\"\n",
              "            title=\"Convert this dataframe to an interactive table.\"\n",
              "            style=\"display:none;\">\n",
              "\n",
              "  <svg xmlns=\"http://www.w3.org/2000/svg\" height=\"24px\" viewBox=\"0 -960 960 960\">\n",
              "    <path d=\"M120-120v-720h720v720H120Zm60-500h600v-160H180v160Zm220 220h160v-160H400v160Zm0 220h160v-160H400v160ZM180-400h160v-160H180v160Zm440 0h160v-160H620v160ZM180-180h160v-160H180v160Zm440 0h160v-160H620v160Z\"/>\n",
              "  </svg>\n",
              "    </button>\n",
              "\n",
              "  <style>\n",
              "    .colab-df-container {\n",
              "      display:flex;\n",
              "      gap: 12px;\n",
              "    }\n",
              "\n",
              "    .colab-df-convert {\n",
              "      background-color: #E8F0FE;\n",
              "      border: none;\n",
              "      border-radius: 50%;\n",
              "      cursor: pointer;\n",
              "      display: none;\n",
              "      fill: #1967D2;\n",
              "      height: 32px;\n",
              "      padding: 0 0 0 0;\n",
              "      width: 32px;\n",
              "    }\n",
              "\n",
              "    .colab-df-convert:hover {\n",
              "      background-color: #E2EBFA;\n",
              "      box-shadow: 0px 1px 2px rgba(60, 64, 67, 0.3), 0px 1px 3px 1px rgba(60, 64, 67, 0.15);\n",
              "      fill: #174EA6;\n",
              "    }\n",
              "\n",
              "    .colab-df-buttons div {\n",
              "      margin-bottom: 4px;\n",
              "    }\n",
              "\n",
              "    [theme=dark] .colab-df-convert {\n",
              "      background-color: #3B4455;\n",
              "      fill: #D2E3FC;\n",
              "    }\n",
              "\n",
              "    [theme=dark] .colab-df-convert:hover {\n",
              "      background-color: #434B5C;\n",
              "      box-shadow: 0px 1px 3px 1px rgba(0, 0, 0, 0.15);\n",
              "      filter: drop-shadow(0px 1px 2px rgba(0, 0, 0, 0.3));\n",
              "      fill: #FFFFFF;\n",
              "    }\n",
              "  </style>\n",
              "\n",
              "    <script>\n",
              "      const buttonEl =\n",
              "        document.querySelector('#df-eea91860-696e-4c22-80e3-5ab52b7f65d4 button.colab-df-convert');\n",
              "      buttonEl.style.display =\n",
              "        google.colab.kernel.accessAllowed ? 'block' : 'none';\n",
              "\n",
              "      async function convertToInteractive(key) {\n",
              "        const element = document.querySelector('#df-eea91860-696e-4c22-80e3-5ab52b7f65d4');\n",
              "        const dataTable =\n",
              "          await google.colab.kernel.invokeFunction('convertToInteractive',\n",
              "                                                    [key], {});\n",
              "        if (!dataTable) return;\n",
              "\n",
              "        const docLinkHtml = 'Like what you see? Visit the ' +\n",
              "          '<a target=\"_blank\" href=https://colab.research.google.com/notebooks/data_table.ipynb>data table notebook</a>'\n",
              "          + ' to learn more about interactive tables.';\n",
              "        element.innerHTML = '';\n",
              "        dataTable['output_type'] = 'display_data';\n",
              "        await google.colab.output.renderOutput(dataTable, element);\n",
              "        const docLink = document.createElement('div');\n",
              "        docLink.innerHTML = docLinkHtml;\n",
              "        element.appendChild(docLink);\n",
              "      }\n",
              "    </script>\n",
              "  </div>\n",
              "\n",
              "\n",
              "<div id=\"df-6b8a7974-ff30-4cac-aaec-6d440b1e7ef3\">\n",
              "  <button class=\"colab-df-quickchart\" onclick=\"quickchart('df-6b8a7974-ff30-4cac-aaec-6d440b1e7ef3')\"\n",
              "            title=\"Suggest charts\"\n",
              "            style=\"display:none;\">\n",
              "\n",
              "<svg xmlns=\"http://www.w3.org/2000/svg\" height=\"24px\"viewBox=\"0 0 24 24\"\n",
              "     width=\"24px\">\n",
              "    <g>\n",
              "        <path d=\"M19 3H5c-1.1 0-2 .9-2 2v14c0 1.1.9 2 2 2h14c1.1 0 2-.9 2-2V5c0-1.1-.9-2-2-2zM9 17H7v-7h2v7zm4 0h-2V7h2v10zm4 0h-2v-4h2v4z\"/>\n",
              "    </g>\n",
              "</svg>\n",
              "  </button>\n",
              "\n",
              "<style>\n",
              "  .colab-df-quickchart {\n",
              "      --bg-color: #E8F0FE;\n",
              "      --fill-color: #1967D2;\n",
              "      --hover-bg-color: #E2EBFA;\n",
              "      --hover-fill-color: #174EA6;\n",
              "      --disabled-fill-color: #AAA;\n",
              "      --disabled-bg-color: #DDD;\n",
              "  }\n",
              "\n",
              "  [theme=dark] .colab-df-quickchart {\n",
              "      --bg-color: #3B4455;\n",
              "      --fill-color: #D2E3FC;\n",
              "      --hover-bg-color: #434B5C;\n",
              "      --hover-fill-color: #FFFFFF;\n",
              "      --disabled-bg-color: #3B4455;\n",
              "      --disabled-fill-color: #666;\n",
              "  }\n",
              "\n",
              "  .colab-df-quickchart {\n",
              "    background-color: var(--bg-color);\n",
              "    border: none;\n",
              "    border-radius: 50%;\n",
              "    cursor: pointer;\n",
              "    display: none;\n",
              "    fill: var(--fill-color);\n",
              "    height: 32px;\n",
              "    padding: 0;\n",
              "    width: 32px;\n",
              "  }\n",
              "\n",
              "  .colab-df-quickchart:hover {\n",
              "    background-color: var(--hover-bg-color);\n",
              "    box-shadow: 0 1px 2px rgba(60, 64, 67, 0.3), 0 1px 3px 1px rgba(60, 64, 67, 0.15);\n",
              "    fill: var(--button-hover-fill-color);\n",
              "  }\n",
              "\n",
              "  .colab-df-quickchart-complete:disabled,\n",
              "  .colab-df-quickchart-complete:disabled:hover {\n",
              "    background-color: var(--disabled-bg-color);\n",
              "    fill: var(--disabled-fill-color);\n",
              "    box-shadow: none;\n",
              "  }\n",
              "\n",
              "  .colab-df-spinner {\n",
              "    border: 2px solid var(--fill-color);\n",
              "    border-color: transparent;\n",
              "    border-bottom-color: var(--fill-color);\n",
              "    animation:\n",
              "      spin 1s steps(1) infinite;\n",
              "  }\n",
              "\n",
              "  @keyframes spin {\n",
              "    0% {\n",
              "      border-color: transparent;\n",
              "      border-bottom-color: var(--fill-color);\n",
              "      border-left-color: var(--fill-color);\n",
              "    }\n",
              "    20% {\n",
              "      border-color: transparent;\n",
              "      border-left-color: var(--fill-color);\n",
              "      border-top-color: var(--fill-color);\n",
              "    }\n",
              "    30% {\n",
              "      border-color: transparent;\n",
              "      border-left-color: var(--fill-color);\n",
              "      border-top-color: var(--fill-color);\n",
              "      border-right-color: var(--fill-color);\n",
              "    }\n",
              "    40% {\n",
              "      border-color: transparent;\n",
              "      border-right-color: var(--fill-color);\n",
              "      border-top-color: var(--fill-color);\n",
              "    }\n",
              "    60% {\n",
              "      border-color: transparent;\n",
              "      border-right-color: var(--fill-color);\n",
              "    }\n",
              "    80% {\n",
              "      border-color: transparent;\n",
              "      border-right-color: var(--fill-color);\n",
              "      border-bottom-color: var(--fill-color);\n",
              "    }\n",
              "    90% {\n",
              "      border-color: transparent;\n",
              "      border-bottom-color: var(--fill-color);\n",
              "    }\n",
              "  }\n",
              "</style>\n",
              "\n",
              "  <script>\n",
              "    async function quickchart(key) {\n",
              "      const quickchartButtonEl =\n",
              "        document.querySelector('#' + key + ' button');\n",
              "      quickchartButtonEl.disabled = true;  // To prevent multiple clicks.\n",
              "      quickchartButtonEl.classList.add('colab-df-spinner');\n",
              "      try {\n",
              "        const charts = await google.colab.kernel.invokeFunction(\n",
              "            'suggestCharts', [key], {});\n",
              "      } catch (error) {\n",
              "        console.error('Error during call to suggestCharts:', error);\n",
              "      }\n",
              "      quickchartButtonEl.classList.remove('colab-df-spinner');\n",
              "      quickchartButtonEl.classList.add('colab-df-quickchart-complete');\n",
              "    }\n",
              "    (() => {\n",
              "      let quickchartButtonEl =\n",
              "        document.querySelector('#df-6b8a7974-ff30-4cac-aaec-6d440b1e7ef3 button');\n",
              "      quickchartButtonEl.style.display =\n",
              "        google.colab.kernel.accessAllowed ? 'block' : 'none';\n",
              "    })();\n",
              "  </script>\n",
              "</div>\n",
              "\n",
              "    </div>\n",
              "  </div>\n"
            ],
            "application/vnd.google.colaboratory.intrinsic+json": {
              "type": "dataframe",
              "variable_name": "df",
              "summary": "{\n  \"name\": \"df\",\n  \"rows\": 1338,\n  \"fields\": [\n    {\n      \"column\": \"uid\",\n      \"properties\": {\n        \"dtype\": \"number\",\n        \"std\": 716972.4332910046,\n        \"min\": 961667.0,\n        \"max\": 5137782.0,\n        \"num_unique_values\": 1325,\n        \"samples\": [\n          2689139.0,\n          3207600.0,\n          2223741.0\n        ],\n        \"semantic_type\": \"\",\n        \"description\": \"\"\n      }\n    },\n    {\n      \"column\": \"sex\",\n      \"properties\": {\n        \"dtype\": \"category\",\n        \"num_unique_values\": 2,\n        \"samples\": [\n          \"male\",\n          \"female\"\n        ],\n        \"semantic_type\": \"\",\n        \"description\": \"\"\n      }\n    },\n    {\n      \"column\": \"bmi\",\n      \"properties\": {\n        \"dtype\": \"number\",\n        \"std\": 6.098382190003363,\n        \"min\": 16.0,\n        \"max\": 53.1,\n        \"num_unique_values\": 275,\n        \"samples\": [\n          28.6,\n          20.9\n        ],\n        \"semantic_type\": \"\",\n        \"description\": \"\"\n      }\n    },\n    {\n      \"column\": \"children\",\n      \"properties\": {\n        \"dtype\": \"number\",\n        \"std\": 1,\n        \"min\": 0,\n        \"max\": 5,\n        \"num_unique_values\": 6,\n        \"samples\": [\n          0,\n          1\n        ],\n        \"semantic_type\": \"\",\n        \"description\": \"\"\n      }\n    },\n    {\n      \"column\": \"smoker\",\n      \"properties\": {\n        \"dtype\": \"category\",\n        \"num_unique_values\": 2,\n        \"samples\": [\n          \"no\",\n          \"yes\"\n        ],\n        \"semantic_type\": \"\",\n        \"description\": \"\"\n      }\n    },\n    {\n      \"column\": \"expenses\",\n      \"properties\": {\n        \"dtype\": \"number\",\n        \"std\": 12110.891810955169,\n        \"min\": 0.0,\n        \"max\": 63770.43,\n        \"num_unique_values\": 1337,\n        \"samples\": [\n          8688.86,\n          5708.87\n        ],\n        \"semantic_type\": \"\",\n        \"description\": \"\"\n      }\n    },\n    {\n      \"column\": \"weight\",\n      \"properties\": {\n        \"dtype\": \"number\",\n        \"std\": 34.59621071228659,\n        \"min\": 42.54267631060137,\n        \"max\": 824.0,\n        \"num_unique_values\": 1338,\n        \"samples\": [\n          67.91136118915658,\n          91.59426172134256\n        ],\n        \"semantic_type\": \"\",\n        \"description\": \"\"\n      }\n    },\n    {\n      \"column\": \"height\",\n      \"properties\": {\n        \"dtype\": \"number\",\n        \"std\": 0.10694270318542859,\n        \"min\": 1.513195949789388,\n        \"max\": 1.88647641144498,\n        \"num_unique_values\": 1338,\n        \"samples\": [\n          1.8772680614540105,\n          1.5645974666525595\n        ],\n        \"semantic_type\": \"\",\n        \"description\": \"\"\n      }\n    },\n    {\n      \"column\": \"birth_year\",\n      \"properties\": {\n        \"dtype\": \"number\",\n        \"std\": 14,\n        \"min\": 1960,\n        \"max\": 2006,\n        \"num_unique_values\": 47,\n        \"samples\": [\n          2003,\n          1979\n        ],\n        \"semantic_type\": \"\",\n        \"description\": \"\"\n      }\n    },\n    {\n      \"column\": \"has_car\",\n      \"properties\": {\n        \"dtype\": \"category\",\n        \"num_unique_values\": 2,\n        \"samples\": [\n          \"yes\",\n          \"no\"\n        ],\n        \"semantic_type\": \"\",\n        \"description\": \"\"\n      }\n    },\n    {\n      \"column\": \"favorite_color\",\n      \"properties\": {\n        \"dtype\": \"category\",\n        \"num_unique_values\": 3,\n        \"samples\": [\n          \"red\",\n          \"blue\"\n        ],\n        \"semantic_type\": \"\",\n        \"description\": \"\"\n      }\n    },\n    {\n      \"column\": \"region\",\n      \"properties\": {\n        \"dtype\": \"category\",\n        \"num_unique_values\": 4,\n        \"samples\": [\n          \"southeast\",\n          \"northeast\"\n        ],\n        \"semantic_type\": \"\",\n        \"description\": \"\"\n      }\n    }\n  ]\n}"
            }
          },
          "metadata": {},
          "execution_count": 33
        }
      ]
    },
    {
      "cell_type": "code",
      "source": [
        "df.describe()"
      ],
      "metadata": {
        "colab": {
          "base_uri": "https://localhost:8080/",
          "height": 300
        },
        "id": "yZp0wnSoIVtl",
        "outputId": "f9b5b8d6-d001-4ac2-d3cf-a811e92bb4f4"
      },
      "execution_count": null,
      "outputs": [
        {
          "output_type": "execute_result",
          "data": {
            "text/plain": [
              "                uid          bmi     children      expenses       weight  \\\n",
              "count  1.325000e+03  1338.000000  1338.000000   1338.000000  1338.000000   \n",
              "mean   3.022676e+06    30.665471     1.094918  13269.583946    90.632637   \n",
              "std    7.169724e+05     6.098382     1.205493  12110.891811    34.596211   \n",
              "min    9.616670e+05    16.000000     0.000000      0.000000    42.542676   \n",
              "25%    2.533437e+06    26.300000     0.000000   4740.287500    76.113966   \n",
              "50%    3.018370e+06    30.400000     1.000000   9382.030000    88.098593   \n",
              "75%    3.508208e+06    34.700000     2.000000  16639.915000   100.629409   \n",
              "max    5.137782e+06    53.100000     5.000000  63770.430000   824.000000   \n",
              "\n",
              "            height   birth_year  \n",
              "count  1338.000000  1338.000000  \n",
              "mean      1.696309  1984.792975  \n",
              "std       0.106943    14.049960  \n",
              "min       1.513196  1960.000000  \n",
              "25%       1.601626  1973.000000  \n",
              "50%       1.697910  1985.000000  \n",
              "75%       1.788006  1997.000000  \n",
              "max       1.886476  2006.000000  "
            ],
            "text/html": [
              "\n",
              "  <div id=\"df-8d55d15c-43d2-4875-bf45-f26d1738b26c\" class=\"colab-df-container\">\n",
              "    <div>\n",
              "<style scoped>\n",
              "    .dataframe tbody tr th:only-of-type {\n",
              "        vertical-align: middle;\n",
              "    }\n",
              "\n",
              "    .dataframe tbody tr th {\n",
              "        vertical-align: top;\n",
              "    }\n",
              "\n",
              "    .dataframe thead th {\n",
              "        text-align: right;\n",
              "    }\n",
              "</style>\n",
              "<table border=\"1\" class=\"dataframe\">\n",
              "  <thead>\n",
              "    <tr style=\"text-align: right;\">\n",
              "      <th></th>\n",
              "      <th>uid</th>\n",
              "      <th>bmi</th>\n",
              "      <th>children</th>\n",
              "      <th>expenses</th>\n",
              "      <th>weight</th>\n",
              "      <th>height</th>\n",
              "      <th>birth_year</th>\n",
              "    </tr>\n",
              "  </thead>\n",
              "  <tbody>\n",
              "    <tr>\n",
              "      <th>count</th>\n",
              "      <td>1.325000e+03</td>\n",
              "      <td>1338.000000</td>\n",
              "      <td>1338.000000</td>\n",
              "      <td>1338.000000</td>\n",
              "      <td>1338.000000</td>\n",
              "      <td>1338.000000</td>\n",
              "      <td>1338.000000</td>\n",
              "    </tr>\n",
              "    <tr>\n",
              "      <th>mean</th>\n",
              "      <td>3.022676e+06</td>\n",
              "      <td>30.665471</td>\n",
              "      <td>1.094918</td>\n",
              "      <td>13269.583946</td>\n",
              "      <td>90.632637</td>\n",
              "      <td>1.696309</td>\n",
              "      <td>1984.792975</td>\n",
              "    </tr>\n",
              "    <tr>\n",
              "      <th>std</th>\n",
              "      <td>7.169724e+05</td>\n",
              "      <td>6.098382</td>\n",
              "      <td>1.205493</td>\n",
              "      <td>12110.891811</td>\n",
              "      <td>34.596211</td>\n",
              "      <td>0.106943</td>\n",
              "      <td>14.049960</td>\n",
              "    </tr>\n",
              "    <tr>\n",
              "      <th>min</th>\n",
              "      <td>9.616670e+05</td>\n",
              "      <td>16.000000</td>\n",
              "      <td>0.000000</td>\n",
              "      <td>0.000000</td>\n",
              "      <td>42.542676</td>\n",
              "      <td>1.513196</td>\n",
              "      <td>1960.000000</td>\n",
              "    </tr>\n",
              "    <tr>\n",
              "      <th>25%</th>\n",
              "      <td>2.533437e+06</td>\n",
              "      <td>26.300000</td>\n",
              "      <td>0.000000</td>\n",
              "      <td>4740.287500</td>\n",
              "      <td>76.113966</td>\n",
              "      <td>1.601626</td>\n",
              "      <td>1973.000000</td>\n",
              "    </tr>\n",
              "    <tr>\n",
              "      <th>50%</th>\n",
              "      <td>3.018370e+06</td>\n",
              "      <td>30.400000</td>\n",
              "      <td>1.000000</td>\n",
              "      <td>9382.030000</td>\n",
              "      <td>88.098593</td>\n",
              "      <td>1.697910</td>\n",
              "      <td>1985.000000</td>\n",
              "    </tr>\n",
              "    <tr>\n",
              "      <th>75%</th>\n",
              "      <td>3.508208e+06</td>\n",
              "      <td>34.700000</td>\n",
              "      <td>2.000000</td>\n",
              "      <td>16639.915000</td>\n",
              "      <td>100.629409</td>\n",
              "      <td>1.788006</td>\n",
              "      <td>1997.000000</td>\n",
              "    </tr>\n",
              "    <tr>\n",
              "      <th>max</th>\n",
              "      <td>5.137782e+06</td>\n",
              "      <td>53.100000</td>\n",
              "      <td>5.000000</td>\n",
              "      <td>63770.430000</td>\n",
              "      <td>824.000000</td>\n",
              "      <td>1.886476</td>\n",
              "      <td>2006.000000</td>\n",
              "    </tr>\n",
              "  </tbody>\n",
              "</table>\n",
              "</div>\n",
              "    <div class=\"colab-df-buttons\">\n",
              "\n",
              "  <div class=\"colab-df-container\">\n",
              "    <button class=\"colab-df-convert\" onclick=\"convertToInteractive('df-8d55d15c-43d2-4875-bf45-f26d1738b26c')\"\n",
              "            title=\"Convert this dataframe to an interactive table.\"\n",
              "            style=\"display:none;\">\n",
              "\n",
              "  <svg xmlns=\"http://www.w3.org/2000/svg\" height=\"24px\" viewBox=\"0 -960 960 960\">\n",
              "    <path d=\"M120-120v-720h720v720H120Zm60-500h600v-160H180v160Zm220 220h160v-160H400v160Zm0 220h160v-160H400v160ZM180-400h160v-160H180v160Zm440 0h160v-160H620v160ZM180-180h160v-160H180v160Zm440 0h160v-160H620v160Z\"/>\n",
              "  </svg>\n",
              "    </button>\n",
              "\n",
              "  <style>\n",
              "    .colab-df-container {\n",
              "      display:flex;\n",
              "      gap: 12px;\n",
              "    }\n",
              "\n",
              "    .colab-df-convert {\n",
              "      background-color: #E8F0FE;\n",
              "      border: none;\n",
              "      border-radius: 50%;\n",
              "      cursor: pointer;\n",
              "      display: none;\n",
              "      fill: #1967D2;\n",
              "      height: 32px;\n",
              "      padding: 0 0 0 0;\n",
              "      width: 32px;\n",
              "    }\n",
              "\n",
              "    .colab-df-convert:hover {\n",
              "      background-color: #E2EBFA;\n",
              "      box-shadow: 0px 1px 2px rgba(60, 64, 67, 0.3), 0px 1px 3px 1px rgba(60, 64, 67, 0.15);\n",
              "      fill: #174EA6;\n",
              "    }\n",
              "\n",
              "    .colab-df-buttons div {\n",
              "      margin-bottom: 4px;\n",
              "    }\n",
              "\n",
              "    [theme=dark] .colab-df-convert {\n",
              "      background-color: #3B4455;\n",
              "      fill: #D2E3FC;\n",
              "    }\n",
              "\n",
              "    [theme=dark] .colab-df-convert:hover {\n",
              "      background-color: #434B5C;\n",
              "      box-shadow: 0px 1px 3px 1px rgba(0, 0, 0, 0.15);\n",
              "      filter: drop-shadow(0px 1px 2px rgba(0, 0, 0, 0.3));\n",
              "      fill: #FFFFFF;\n",
              "    }\n",
              "  </style>\n",
              "\n",
              "    <script>\n",
              "      const buttonEl =\n",
              "        document.querySelector('#df-8d55d15c-43d2-4875-bf45-f26d1738b26c button.colab-df-convert');\n",
              "      buttonEl.style.display =\n",
              "        google.colab.kernel.accessAllowed ? 'block' : 'none';\n",
              "\n",
              "      async function convertToInteractive(key) {\n",
              "        const element = document.querySelector('#df-8d55d15c-43d2-4875-bf45-f26d1738b26c');\n",
              "        const dataTable =\n",
              "          await google.colab.kernel.invokeFunction('convertToInteractive',\n",
              "                                                    [key], {});\n",
              "        if (!dataTable) return;\n",
              "\n",
              "        const docLinkHtml = 'Like what you see? Visit the ' +\n",
              "          '<a target=\"_blank\" href=https://colab.research.google.com/notebooks/data_table.ipynb>data table notebook</a>'\n",
              "          + ' to learn more about interactive tables.';\n",
              "        element.innerHTML = '';\n",
              "        dataTable['output_type'] = 'display_data';\n",
              "        await google.colab.output.renderOutput(dataTable, element);\n",
              "        const docLink = document.createElement('div');\n",
              "        docLink.innerHTML = docLinkHtml;\n",
              "        element.appendChild(docLink);\n",
              "      }\n",
              "    </script>\n",
              "  </div>\n",
              "\n",
              "\n",
              "<div id=\"df-3376fc4a-aa4d-458f-9bc3-70db422c16c1\">\n",
              "  <button class=\"colab-df-quickchart\" onclick=\"quickchart('df-3376fc4a-aa4d-458f-9bc3-70db422c16c1')\"\n",
              "            title=\"Suggest charts\"\n",
              "            style=\"display:none;\">\n",
              "\n",
              "<svg xmlns=\"http://www.w3.org/2000/svg\" height=\"24px\"viewBox=\"0 0 24 24\"\n",
              "     width=\"24px\">\n",
              "    <g>\n",
              "        <path d=\"M19 3H5c-1.1 0-2 .9-2 2v14c0 1.1.9 2 2 2h14c1.1 0 2-.9 2-2V5c0-1.1-.9-2-2-2zM9 17H7v-7h2v7zm4 0h-2V7h2v10zm4 0h-2v-4h2v4z\"/>\n",
              "    </g>\n",
              "</svg>\n",
              "  </button>\n",
              "\n",
              "<style>\n",
              "  .colab-df-quickchart {\n",
              "      --bg-color: #E8F0FE;\n",
              "      --fill-color: #1967D2;\n",
              "      --hover-bg-color: #E2EBFA;\n",
              "      --hover-fill-color: #174EA6;\n",
              "      --disabled-fill-color: #AAA;\n",
              "      --disabled-bg-color: #DDD;\n",
              "  }\n",
              "\n",
              "  [theme=dark] .colab-df-quickchart {\n",
              "      --bg-color: #3B4455;\n",
              "      --fill-color: #D2E3FC;\n",
              "      --hover-bg-color: #434B5C;\n",
              "      --hover-fill-color: #FFFFFF;\n",
              "      --disabled-bg-color: #3B4455;\n",
              "      --disabled-fill-color: #666;\n",
              "  }\n",
              "\n",
              "  .colab-df-quickchart {\n",
              "    background-color: var(--bg-color);\n",
              "    border: none;\n",
              "    border-radius: 50%;\n",
              "    cursor: pointer;\n",
              "    display: none;\n",
              "    fill: var(--fill-color);\n",
              "    height: 32px;\n",
              "    padding: 0;\n",
              "    width: 32px;\n",
              "  }\n",
              "\n",
              "  .colab-df-quickchart:hover {\n",
              "    background-color: var(--hover-bg-color);\n",
              "    box-shadow: 0 1px 2px rgba(60, 64, 67, 0.3), 0 1px 3px 1px rgba(60, 64, 67, 0.15);\n",
              "    fill: var(--button-hover-fill-color);\n",
              "  }\n",
              "\n",
              "  .colab-df-quickchart-complete:disabled,\n",
              "  .colab-df-quickchart-complete:disabled:hover {\n",
              "    background-color: var(--disabled-bg-color);\n",
              "    fill: var(--disabled-fill-color);\n",
              "    box-shadow: none;\n",
              "  }\n",
              "\n",
              "  .colab-df-spinner {\n",
              "    border: 2px solid var(--fill-color);\n",
              "    border-color: transparent;\n",
              "    border-bottom-color: var(--fill-color);\n",
              "    animation:\n",
              "      spin 1s steps(1) infinite;\n",
              "  }\n",
              "\n",
              "  @keyframes spin {\n",
              "    0% {\n",
              "      border-color: transparent;\n",
              "      border-bottom-color: var(--fill-color);\n",
              "      border-left-color: var(--fill-color);\n",
              "    }\n",
              "    20% {\n",
              "      border-color: transparent;\n",
              "      border-left-color: var(--fill-color);\n",
              "      border-top-color: var(--fill-color);\n",
              "    }\n",
              "    30% {\n",
              "      border-color: transparent;\n",
              "      border-left-color: var(--fill-color);\n",
              "      border-top-color: var(--fill-color);\n",
              "      border-right-color: var(--fill-color);\n",
              "    }\n",
              "    40% {\n",
              "      border-color: transparent;\n",
              "      border-right-color: var(--fill-color);\n",
              "      border-top-color: var(--fill-color);\n",
              "    }\n",
              "    60% {\n",
              "      border-color: transparent;\n",
              "      border-right-color: var(--fill-color);\n",
              "    }\n",
              "    80% {\n",
              "      border-color: transparent;\n",
              "      border-right-color: var(--fill-color);\n",
              "      border-bottom-color: var(--fill-color);\n",
              "    }\n",
              "    90% {\n",
              "      border-color: transparent;\n",
              "      border-bottom-color: var(--fill-color);\n",
              "    }\n",
              "  }\n",
              "</style>\n",
              "\n",
              "  <script>\n",
              "    async function quickchart(key) {\n",
              "      const quickchartButtonEl =\n",
              "        document.querySelector('#' + key + ' button');\n",
              "      quickchartButtonEl.disabled = true;  // To prevent multiple clicks.\n",
              "      quickchartButtonEl.classList.add('colab-df-spinner');\n",
              "      try {\n",
              "        const charts = await google.colab.kernel.invokeFunction(\n",
              "            'suggestCharts', [key], {});\n",
              "      } catch (error) {\n",
              "        console.error('Error during call to suggestCharts:', error);\n",
              "      }\n",
              "      quickchartButtonEl.classList.remove('colab-df-spinner');\n",
              "      quickchartButtonEl.classList.add('colab-df-quickchart-complete');\n",
              "    }\n",
              "    (() => {\n",
              "      let quickchartButtonEl =\n",
              "        document.querySelector('#df-3376fc4a-aa4d-458f-9bc3-70db422c16c1 button');\n",
              "      quickchartButtonEl.style.display =\n",
              "        google.colab.kernel.accessAllowed ? 'block' : 'none';\n",
              "    })();\n",
              "  </script>\n",
              "</div>\n",
              "\n",
              "    </div>\n",
              "  </div>\n"
            ],
            "application/vnd.google.colaboratory.intrinsic+json": {
              "type": "dataframe",
              "summary": "{\n  \"name\": \"df\",\n  \"rows\": 8,\n  \"fields\": [\n    {\n      \"column\": \"uid\",\n      \"properties\": {\n        \"dtype\": \"number\",\n        \"std\": 1696858.2575817967,\n        \"min\": 1325.0,\n        \"max\": 5137782.0,\n        \"num_unique_values\": 8,\n        \"samples\": [\n          3022675.950188679,\n          3018370.0,\n          1325.0\n        ],\n        \"semantic_type\": \"\",\n        \"description\": \"\"\n      }\n    },\n    {\n      \"column\": \"bmi\",\n      \"properties\": {\n        \"dtype\": \"number\",\n        \"std\": 463.2937550164555,\n        \"min\": 6.098382190003363,\n        \"max\": 1338.0,\n        \"num_unique_values\": 8,\n        \"samples\": [\n          30.66547085201794,\n          30.4,\n          1338.0\n        ],\n        \"semantic_type\": \"\",\n        \"description\": \"\"\n      }\n    },\n    {\n      \"column\": \"children\",\n      \"properties\": {\n        \"dtype\": \"number\",\n        \"std\": 472.5368318870757,\n        \"min\": 0.0,\n        \"max\": 1338.0,\n        \"num_unique_values\": 7,\n        \"samples\": [\n          1338.0,\n          1.0949177877429,\n          2.0\n        ],\n        \"semantic_type\": \"\",\n        \"description\": \"\"\n      }\n    },\n    {\n      \"column\": \"expenses\",\n      \"properties\": {\n        \"dtype\": \"number\",\n        \"std\": 20496.91026393862,\n        \"min\": 0.0,\n        \"max\": 63770.43,\n        \"num_unique_values\": 8,\n        \"samples\": [\n          13269.58394618834,\n          9382.029999999999,\n          1338.0\n        ],\n        \"semantic_type\": \"\",\n        \"description\": \"\"\n      }\n    },\n    {\n      \"column\": \"weight\",\n      \"properties\": {\n        \"dtype\": \"number\",\n        \"std\": 487.35725105332523,\n        \"min\": 34.59621071228659,\n        \"max\": 1338.0,\n        \"num_unique_values\": 8,\n        \"samples\": [\n          90.6326365049621,\n          88.0985934631872,\n          1338.0\n        ],\n        \"semantic_type\": \"\",\n        \"description\": \"\"\n      }\n    },\n    {\n      \"column\": \"height\",\n      \"properties\": {\n        \"dtype\": \"number\",\n        \"std\": 472.535030450416,\n        \"min\": 0.10694270318542859,\n        \"max\": 1338.0,\n        \"num_unique_values\": 8,\n        \"samples\": [\n          1.6963086264462677,\n          1.6979099360009886,\n          1338.0\n        ],\n        \"semantic_type\": \"\",\n        \"description\": \"\"\n      }\n    },\n    {\n      \"column\": \"birth_year\",\n      \"properties\": {\n        \"dtype\": \"number\",\n        \"std\": 701.5435677671912,\n        \"min\": 14.049960379216154,\n        \"max\": 2006.0,\n        \"num_unique_values\": 8,\n        \"samples\": [\n          1984.7929745889387,\n          1985.0,\n          1338.0\n        ],\n        \"semantic_type\": \"\",\n        \"description\": \"\"\n      }\n    }\n  ]\n}"
            }
          },
          "metadata": {},
          "execution_count": 34
        }
      ]
    },
    {
      "cell_type": "markdown",
      "source": [
        "At first glance it's visible that for example expenses are skewed. min max mean and median were not distributed equally․"
      ],
      "metadata": {
        "id": "Yfv8xBahIl6t"
      }
    },
    {
      "cell_type": "code",
      "source": [
        "## Detect dataframe shape\n",
        "df.shape"
      ],
      "metadata": {
        "colab": {
          "base_uri": "https://localhost:8080/"
        },
        "id": "M5e2ojyIIj9T",
        "outputId": "e97645b9-b702-447d-d16e-ac32e369afdf"
      },
      "execution_count": null,
      "outputs": [
        {
          "output_type": "execute_result",
          "data": {
            "text/plain": [
              "(1338, 12)"
            ]
          },
          "metadata": {},
          "execution_count": 35
        }
      ]
    },
    {
      "cell_type": "markdown",
      "source": [
        "# Exploration data Analysis (EDA)"
      ],
      "metadata": {
        "id": "PY5fWIp8sa8S"
      }
    },
    {
      "cell_type": "markdown",
      "source": [
        "## Address Missing Values"
      ],
      "metadata": {
        "id": "K3L8wqfzJuvj"
      }
    },
    {
      "cell_type": "markdown",
      "source": [
        "### Identify columns with missing values"
      ],
      "metadata": {
        "id": "ikX7Ll2wJ9OZ"
      }
    },
    {
      "cell_type": "code",
      "source": [
        "missing_values  = df.isna().sum()"
      ],
      "metadata": {
        "id": "vxerM84NJkbn"
      },
      "execution_count": null,
      "outputs": []
    },
    {
      "cell_type": "markdown",
      "source": [
        "Print features which have missing values"
      ],
      "metadata": {
        "id": "q07BFfnJKJWi"
      }
    },
    {
      "cell_type": "code",
      "source": [
        "missing_values[missing_values > 0]"
      ],
      "metadata": {
        "colab": {
          "base_uri": "https://localhost:8080/"
        },
        "id": "UHnh2_i0KD8X",
        "outputId": "f7290c8c-dc50-4ed0-91de-356fed7c0a3b"
      },
      "execution_count": null,
      "outputs": [
        {
          "output_type": "execute_result",
          "data": {
            "text/plain": [
              "uid                13\n",
              "has_car            26\n",
              "favorite_color    160\n",
              "dtype: int64"
            ]
          },
          "metadata": {},
          "execution_count": 37
        }
      ]
    },
    {
      "cell_type": "markdown",
      "source": [
        "Percentage of missing values"
      ],
      "metadata": {
        "id": "ieDfUbnPK8vc"
      }
    },
    {
      "cell_type": "code",
      "source": [
        "df.isna().mean()/df.shape[0]*100"
      ],
      "metadata": {
        "colab": {
          "base_uri": "https://localhost:8080/"
        },
        "id": "njXnlcxoJ_iZ",
        "outputId": "3b2c60dc-8fbc-476f-a5e5-07738f6eed1d"
      },
      "execution_count": null,
      "outputs": [
        {
          "output_type": "execute_result",
          "data": {
            "text/plain": [
              "uid               0.000726\n",
              "sex               0.000000\n",
              "bmi               0.000000\n",
              "children          0.000000\n",
              "smoker            0.000000\n",
              "expenses          0.000000\n",
              "weight            0.000000\n",
              "height            0.000000\n",
              "birth_year        0.000000\n",
              "has_car           0.001452\n",
              "favorite_color    0.008937\n",
              "region            0.000000\n",
              "dtype: float64"
            ]
          },
          "metadata": {},
          "execution_count": 39
        }
      ]
    },
    {
      "cell_type": "markdown",
      "source": [
        "### Address missing values"
      ],
      "metadata": {
        "id": "JQqyV-YPPK6S"
      }
    },
    {
      "cell_type": "code",
      "source": [
        "df.has_car.value_counts()"
      ],
      "metadata": {
        "colab": {
          "base_uri": "https://localhost:8080/"
        },
        "id": "0Nz2v-5tKXGf",
        "outputId": "1ee155fa-8e95-492c-d925-156d812435b5"
      },
      "execution_count": null,
      "outputs": [
        {
          "output_type": "execute_result",
          "data": {
            "text/plain": [
              "no     1164\n",
              "yes     148\n",
              "Name: has_car, dtype: int64"
            ]
          },
          "metadata": {},
          "execution_count": 40
        }
      ]
    },
    {
      "cell_type": "markdown",
      "source": [
        "I opt for addressing missing values in the \"has_car\" column by removing the rows that contain NaN values.\n",
        "This method is suitable because the missing values account for only a small fraction of the dataset, and their removal is unlikely to have a significant impact on the analysis."
      ],
      "metadata": {
        "id": "0tl8Lnu5L437"
      }
    },
    {
      "cell_type": "code",
      "source": [
        "df.dropna(subset=['has_car'], inplace=True)"
      ],
      "metadata": {
        "id": "pYBG42xkLLXE"
      },
      "execution_count": null,
      "outputs": []
    },
    {
      "cell_type": "code",
      "source": [
        "df.favorite_color.value_counts()"
      ],
      "metadata": {
        "colab": {
          "base_uri": "https://localhost:8080/"
        },
        "id": "8EnmMWMhL4CS",
        "outputId": "a60412e5-c9a5-4179-a2af-f2da21d79dbd"
      },
      "execution_count": null,
      "outputs": [
        {
          "output_type": "execute_result",
          "data": {
            "text/plain": [
              "red      461\n",
              "blue     360\n",
              "green    334\n",
              "Name: favorite_color, dtype: int64"
            ]
          },
          "metadata": {},
          "execution_count": 42
        }
      ]
    },
    {
      "cell_type": "markdown",
      "source": [
        "Replace missing values with the most frequent value of the \"favorite_color\" column."
      ],
      "metadata": {
        "id": "thE1_sRqM21U"
      }
    },
    {
      "cell_type": "code",
      "source": [
        "mode_color = df['favorite_color'].mode()[0]\n",
        "df['favorite_color'].fillna(mode_color, inplace=True)"
      ],
      "metadata": {
        "id": "pGZF5I6iMnVS"
      },
      "execution_count": null,
      "outputs": []
    },
    {
      "cell_type": "code",
      "source": [
        "df.uid.value_counts()"
      ],
      "metadata": {
        "colab": {
          "base_uri": "https://localhost:8080/"
        },
        "id": "iMgAPscqM-5y",
        "outputId": "8432647b-65c6-4cc6-b1e9-6498bdbd9a68"
      },
      "execution_count": null,
      "outputs": [
        {
          "output_type": "execute_result",
          "data": {
            "text/plain": [
              "2987877.0    1\n",
              "3732064.0    1\n",
              "2606351.0    1\n",
              "2237117.0    1\n",
              "2370441.0    1\n",
              "            ..\n",
              "3070257.0    1\n",
              "2238635.0    1\n",
              "3248019.0    1\n",
              "2745241.0    1\n",
              "4157993.0    1\n",
              "Name: uid, Length: 1301, dtype: int64"
            ]
          },
          "metadata": {},
          "execution_count": 44
        }
      ]
    },
    {
      "cell_type": "code",
      "source": [
        "df.dtypes"
      ],
      "metadata": {
        "colab": {
          "base_uri": "https://localhost:8080/"
        },
        "id": "yc4hgQANNi2O",
        "outputId": "225fcf1e-6139-430d-e11b-a791feb032d2"
      },
      "execution_count": null,
      "outputs": [
        {
          "output_type": "execute_result",
          "data": {
            "text/plain": [
              "uid               float64\n",
              "sex                object\n",
              "bmi               float64\n",
              "children            int64\n",
              "smoker             object\n",
              "expenses          float64\n",
              "weight            float64\n",
              "height            float64\n",
              "birth_year          int64\n",
              "has_car            object\n",
              "favorite_color     object\n",
              "region             object\n",
              "dtype: object"
            ]
          },
          "metadata": {},
          "execution_count": 45
        }
      ]
    },
    {
      "cell_type": "markdown",
      "source": [
        "fill the \"uid\" column with values that are not already present in the \"uid\" column not to lose information"
      ],
      "metadata": {
        "id": "Wvwngn8ROLMH"
      }
    },
    {
      "cell_type": "code",
      "source": [
        "# Fill NaN values in 'uid' column with a placeholder value (-1) to allow to change 'uid' type as it's float type\n",
        "df['uid'].fillna(-1, inplace=True)\n",
        "\n",
        "# Convert 'uid' column to integers\n",
        "df['uid'] = df['uid'].astype(int)\n",
        "\n",
        "# Find values not present in 'uid' column\n",
        "available_ids = set(range(1, max(df['uid']) + 2))  # Generate a set of all possible ids\n",
        "used_ids = set(df['uid'].unique())  # Get set of used ids\n",
        "unused_ids = list(available_ids - used_ids)  # Get ids not used\n",
        "\n",
        "# Shuffle the list of unused ids\n",
        "import random\n",
        "random.shuffle(unused_ids)\n",
        "\n",
        "# Fill 'uid' column with values not present in 'uid'\n",
        "df.loc[df['uid'] == -1, 'uid'] = unused_ids[:sum(df['uid'] == -1)]"
      ],
      "metadata": {
        "id": "3OR1pZngM9-d"
      },
      "execution_count": null,
      "outputs": []
    },
    {
      "cell_type": "code",
      "source": [
        "df.isna().sum()"
      ],
      "metadata": {
        "colab": {
          "base_uri": "https://localhost:8080/"
        },
        "id": "4-MYHA0iNgce",
        "outputId": "e3ef89b9-ea7b-425c-cfb9-6d2ce95dbc2b"
      },
      "execution_count": null,
      "outputs": [
        {
          "output_type": "execute_result",
          "data": {
            "text/plain": [
              "uid               0\n",
              "sex               0\n",
              "bmi               0\n",
              "children          0\n",
              "smoker            0\n",
              "expenses          0\n",
              "weight            0\n",
              "height            0\n",
              "birth_year        0\n",
              "has_car           0\n",
              "favorite_color    0\n",
              "region            0\n",
              "dtype: int64"
            ]
          },
          "metadata": {},
          "execution_count": 47
        }
      ]
    },
    {
      "cell_type": "markdown",
      "source": [
        "## Address Outliers"
      ],
      "metadata": {
        "id": "MEoAMxNhPCgZ"
      }
    },
    {
      "cell_type": "code",
      "source": [
        "df_cleaned = df.copy()"
      ],
      "metadata": {
        "id": "_-4M7viYPAfZ"
      },
      "execution_count": null,
      "outputs": []
    },
    {
      "cell_type": "markdown",
      "source": [
        "Change birth year to age as it's more suitable to use for modeling"
      ],
      "metadata": {
        "id": "CODloiWvPgI9"
      }
    },
    {
      "cell_type": "code",
      "source": [
        "from datetime import datetime\n",
        "\n",
        "# Calculate current year\n",
        "current_year = datetime.now().year\n",
        "\n",
        "# Calculate age from birth year\n",
        "df_cleaned['age'] = current_year - df_cleaned['birth_year']\n",
        "\n",
        "# Drop 'birth_year' column if you no longer need it\n",
        "df_cleaned.drop(columns=['birth_year'], inplace=True)"
      ],
      "metadata": {
        "id": "5qEMjpk-Paos"
      },
      "execution_count": null,
      "outputs": []
    },
    {
      "cell_type": "code",
      "source": [
        "df_cleaned.columns"
      ],
      "metadata": {
        "colab": {
          "base_uri": "https://localhost:8080/"
        },
        "id": "lFBHqKWXPUuX",
        "outputId": "dcac10a6-0498-4cb3-9d50-91464be52140"
      },
      "execution_count": null,
      "outputs": [
        {
          "output_type": "execute_result",
          "data": {
            "text/plain": [
              "Index(['uid', 'sex', 'bmi', 'children', 'smoker', 'expenses', 'weight',\n",
              "       'height', 'has_car', 'favorite_color', 'region', 'age'],\n",
              "      dtype='object')"
            ]
          },
          "metadata": {},
          "execution_count": 50
        }
      ]
    },
    {
      "cell_type": "code",
      "source": [
        "df_cleaned.age"
      ],
      "metadata": {
        "colab": {
          "base_uri": "https://localhost:8080/"
        },
        "id": "usYzB5U7P_pM",
        "outputId": "d7db72e3-d31b-4705-d985-43c677acda55"
      },
      "execution_count": null,
      "outputs": [
        {
          "output_type": "execute_result",
          "data": {
            "text/plain": [
              "0       19\n",
              "1       18\n",
              "2       28\n",
              "3       33\n",
              "4       32\n",
              "        ..\n",
              "1333    50\n",
              "1334    18\n",
              "1335    18\n",
              "1336    21\n",
              "1337    61\n",
              "Name: age, Length: 1312, dtype: int64"
            ]
          },
          "metadata": {},
          "execution_count": 51
        }
      ]
    },
    {
      "cell_type": "markdown",
      "source": [
        "#### Identify columns with outliers.\n"
      ],
      "metadata": {
        "id": "7N64bblzQG7H"
      }
    },
    {
      "cell_type": "code",
      "source": [
        "df_cleaned.dtypes"
      ],
      "metadata": {
        "colab": {
          "base_uri": "https://localhost:8080/"
        },
        "id": "WuTbx7mvQF2k",
        "outputId": "ee51090c-744e-4c55-87a4-8e1e902786d5"
      },
      "execution_count": null,
      "outputs": [
        {
          "output_type": "execute_result",
          "data": {
            "text/plain": [
              "uid                 int64\n",
              "sex                object\n",
              "bmi               float64\n",
              "children            int64\n",
              "smoker             object\n",
              "expenses          float64\n",
              "weight            float64\n",
              "height            float64\n",
              "has_car            object\n",
              "favorite_color     object\n",
              "region             object\n",
              "age                 int64\n",
              "dtype: object"
            ]
          },
          "metadata": {},
          "execution_count": 52
        }
      ]
    },
    {
      "cell_type": "markdown",
      "source": [
        "Print numerical features"
      ],
      "metadata": {
        "id": "KUt3u4obQW-v"
      }
    },
    {
      "cell_type": "code",
      "source": [
        "numerical_features = df_cleaned.select_dtypes(include=['int', 'float']).columns.tolist()\n",
        "\n",
        "print(\"Numerical Features:\", numerical_features)"
      ],
      "metadata": {
        "colab": {
          "base_uri": "https://localhost:8080/"
        },
        "id": "cr3IuQZBQB0J",
        "outputId": "fa43a6c0-3ddf-458b-e2a0-ed16e28642af"
      },
      "execution_count": null,
      "outputs": [
        {
          "output_type": "stream",
          "name": "stdout",
          "text": [
            "Numerical Features: ['uid', 'bmi', 'children', 'expenses', 'weight', 'height', 'age']\n"
          ]
        }
      ]
    },
    {
      "cell_type": "code",
      "source": [
        "def plot_diff (feat):\n",
        "  plt.figure(figsize=(15, 8))\n",
        "\n",
        "  # Histogram\n",
        "  plt.subplot(2, 1, 1)\n",
        "  sns.histplot(df_cleaned[feat], kde=True)\n",
        "  plt.title('Histogram')\n",
        "\n",
        "  # Boxplot\n",
        "  plt.subplot(2, 1, 2)\n",
        "  sns.boxplot(x=df_cleaned[feat])\n",
        "  plt.title('Boxplot')\n",
        "\n",
        "  plt.tight_layout()\n",
        "  plt.show()"
      ],
      "metadata": {
        "id": "Up2o4poSQZM1"
      },
      "execution_count": null,
      "outputs": []
    },
    {
      "cell_type": "code",
      "source": [
        "plot_diff('age')"
      ],
      "metadata": {
        "colab": {
          "base_uri": "https://localhost:8080/",
          "height": 533
        },
        "id": "c_akH7WvQnSp",
        "outputId": "2850651b-e705-4b3b-cd0c-7b2c69e7764b"
      },
      "execution_count": null,
      "outputs": [
        {
          "output_type": "display_data",
          "data": {
            "text/plain": [
              "<Figure size 1500x800 with 2 Axes>"
            ],
            "image/png": "[encoded data removed]"
          },
          "metadata": {}
        }
      ]
    },
    {
      "cell_type": "markdown",
      "source": [
        "No outliers for 'age' feature"
      ],
      "metadata": {
        "id": "Wk_cqMq_Quto"
      }
    },
    {
      "cell_type": "code",
      "source": [
        "plot_diff('height')"
      ],
      "metadata": {
        "colab": {
          "base_uri": "https://localhost:8080/",
          "height": 533
        },
        "id": "OYy2qUNlQryn",
        "outputId": "fb2ed5f5-cbc5-497a-e5cc-754d3c52ef14"
      },
      "execution_count": null,
      "outputs": [
        {
          "output_type": "display_data",
          "data": {
            "text/plain": [
              "<Figure size 1500x800 with 2 Axes>"
            ],
            "image/png": "[encoded data removed]"
          },
          "metadata": {}
        }
      ]
    },
    {
      "cell_type": "markdown",
      "source": [
        "No outliers for 'height' feature"
      ],
      "metadata": {
        "id": "SkUnWeFgQ7ZJ"
      }
    },
    {
      "cell_type": "code",
      "source": [
        "plot_diff('weight')"
      ],
      "metadata": {
        "colab": {
          "base_uri": "https://localhost:8080/",
          "height": 533
        },
        "id": "DUp88ze5Q4IQ",
        "outputId": "f6316f55-2d36-4668-e1d1-d617b45d769e"
      },
      "execution_count": null,
      "outputs": [
        {
          "output_type": "display_data",
          "data": {
            "text/plain": [
              "<Figure size 1500x800 with 2 Axes>"
            ],
            "image/png": "[encoded data removed]"
          },
          "metadata": {}
        }
      ]
    },
    {
      "cell_type": "markdown",
      "source": [
        "Remove outliers"
      ],
      "metadata": {
        "id": "0HgXOUO2RjG2"
      }
    },
    {
      "cell_type": "code",
      "source": [
        "plot_diff('expenses')"
      ],
      "metadata": {
        "colab": {
          "base_uri": "https://localhost:8080/",
          "height": 533
        },
        "id": "VpeaIHw7RDlo",
        "outputId": "9cd8d1e3-2c45-4239-c1a2-f57eb178cfab"
      },
      "execution_count": null,
      "outputs": [
        {
          "output_type": "display_data",
          "data": {
            "text/plain": [
              "<Figure size 1500x800 with 2 Axes>"
            ],
            "image/png": "[encoded data removed]"
          },
          "metadata": {}
        }
      ]
    },
    {
      "cell_type": "code",
      "source": [
        "plot_diff('children')"
      ],
      "metadata": {
        "colab": {
          "base_uri": "https://localhost:8080/",
          "height": 533
        },
        "id": "wVMQvLIQR4v-",
        "outputId": "206e45da-0d15-49a0-f07d-549c457249f4"
      },
      "execution_count": null,
      "outputs": [
        {
          "output_type": "display_data",
          "data": {
            "text/plain": [
              "<Figure size 1500x800 with 2 Axes>"
            ],
            "image/png": "[encoded data removed]"
          },
          "metadata": {}
        }
      ]
    },
    {
      "cell_type": "markdown",
      "source": [
        "No outliers for 'children' feature"
      ],
      "metadata": {
        "id": "m0Z1hXTISIU6"
      }
    },
    {
      "cell_type": "code",
      "source": [
        "plot_diff('bmi')"
      ],
      "metadata": {
        "colab": {
          "base_uri": "https://localhost:8080/",
          "height": 533
        },
        "id": "F_elby4hR9kI",
        "outputId": "a067b8d8-398d-4801-ddf0-a0260c72ce27"
      },
      "execution_count": null,
      "outputs": [
        {
          "output_type": "display_data",
          "data": {
            "text/plain": [
              "<Figure size 1500x800 with 2 Axes>"
            ],
            "image/png": "[encoded data removed]"
          },
          "metadata": {}
        }
      ]
    },
    {
      "cell_type": "code",
      "source": [
        "from scipy import stats\n",
        "\n",
        "# Calculate z-scores\n",
        "df['z_score'] = stats.zscore(df['weight'])\n",
        "\n",
        "# Identify outliers based on z-score threshold (e.g., z > 3)\n",
        "outliers = df[df['z_score'].abs() > 3]['weight']\n",
        "\n",
        "# Print outliers\n",
        "print(\"Outliers based on z-score:\")\n",
        "print(outliers)"
      ],
      "metadata": {
        "colab": {
          "base_uri": "https://localhost:8080/"
        },
        "id": "gVMk2ESMSBUv",
        "outputId": "7bd617ac-801f-42a0-a5d0-f17c7f47a8cd"
      },
      "execution_count": null,
      "outputs": [
        {
          "output_type": "stream",
          "name": "stdout",
          "text": [
            "Outliers based on z-score:\n",
            "579     492.0\n",
            "611     824.0\n",
            "656     354.0\n",
            "946     445.0\n",
            "1004    382.0\n",
            "1178    486.0\n",
            "1243    292.0\n",
            "Name: weight, dtype: float64\n"
          ]
        }
      ]
    },
    {
      "cell_type": "code",
      "source": [
        "# Calculate z-scores\n",
        "df['z_score'] = stats.zscore(df['bmi'])\n",
        "\n",
        "# Identify outliers based on z-score threshold (e.g., z > 3)\n",
        "outliers = df[df['z_score'].abs() > 3]['bmi']\n",
        "\n",
        "# Print outliers\n",
        "print(\"Outliers based on z-score:\")\n",
        "print(outliers)"
      ],
      "metadata": {
        "colab": {
          "base_uri": "https://localhost:8080/"
        },
        "id": "zeXAHyvLSg_e",
        "outputId": "2b0a962e-b644-400b-ca21-3d07fe328afe"
      },
      "execution_count": null,
      "outputs": [
        {
          "output_type": "stream",
          "name": "stdout",
          "text": [
            "Outliers based on z-score:\n",
            "116     49.1\n",
            "847     50.4\n",
            "1047    52.6\n",
            "1317    53.1\n",
            "Name: bmi, dtype: float64\n"
          ]
        }
      ]
    },
    {
      "cell_type": "code",
      "source": [
        "# Calculate z-scores\n",
        "df['z_score'] = stats.zscore(df['expenses'])\n",
        "\n",
        "# Identify outliers based on z-score threshold (e.g., z > 3)\n",
        "outliers = df[df['z_score'].abs() > 3]['expenses']\n",
        "\n",
        "# Print outliers\n",
        "print(\"Outliers based on z-score:\")\n",
        "print(outliers)"
      ],
      "metadata": {
        "colab": {
          "base_uri": "https://localhost:8080/"
        },
        "id": "896AYvPES0xm",
        "outputId": "47f3f16c-38d4-4771-d043-9bc3bef5cd87"
      },
      "execution_count": null,
      "outputs": [
        {
          "output_type": "stream",
          "name": "stdout",
          "text": [
            "Outliers based on z-score:\n",
            "543     63770.43\n",
            "577     58571.07\n",
            "819     55135.40\n",
            "1146    52590.83\n",
            "1230    60021.40\n",
            "1241    49577.66\n",
            "1300    62592.87\n",
            "Name: expenses, dtype: float64\n"
          ]
        }
      ]
    },
    {
      "cell_type": "markdown",
      "source": [
        "#### Address detected outliers"
      ],
      "metadata": {
        "id": "ysdLKQkcT63a"
      }
    },
    {
      "cell_type": "markdown",
      "source": [
        "Removed detected outliers as they can mislead the model results"
      ],
      "metadata": {
        "id": "kPJTbahsTi30"
      }
    },
    {
      "cell_type": "code",
      "source": [
        "df_cleaned = df_cleaned.loc[df_cleaned['bmi']<=49]\n",
        "df_cleaned = df_cleaned.loc[df_cleaned['expenses']<=50000]\n",
        "df_cleaned = df_cleaned.loc[df_cleaned['weight']<=200]"
      ],
      "metadata": {
        "id": "OAoMcNWgS5un"
      },
      "execution_count": null,
      "outputs": []
    },
    {
      "cell_type": "markdown",
      "source": [
        "## Drop Irrelevant Features"
      ],
      "metadata": {
        "id": "r8WVGz-wT1Ji"
      }
    },
    {
      "cell_type": "code",
      "source": [
        "# Create an empty dictionary to store the results\n",
        "features_high_frequency = {}\n",
        "\n",
        "# Iterate over each column in the dataframe\n",
        "for column in df_cleaned.columns:\n",
        "    # Calculate the frequency of the most common value\n",
        "    most_common_freq = df_cleaned[column].value_counts(normalize=True).iloc[0]\n",
        "\n",
        "    # Check if the frequency is greater than 0.9 (90%)\n",
        "    if most_common_freq >= 0.9:\n",
        "        # Add the column and its frequency to the dictionary\n",
        "        features_high_frequency[column] = most_common_freq\n",
        "\n",
        "# Convert the dictionary to a DataFrame for better readability\n",
        "features_high_frequency_df = pd.DataFrame(features_high_frequency.items(), columns=['Feature', 'Frequency'])\n",
        "\n",
        "# Display the features with more than 90% of values being the same\n",
        "print(features_high_frequency_df)"
      ],
      "metadata": {
        "colab": {
          "base_uri": "https://localhost:8080/"
        },
        "id": "zfQOFn78TqiT",
        "outputId": "3cef590e-ac58-49c2-d302-66ec8882e249"
      },
      "execution_count": null,
      "outputs": [
        {
          "output_type": "stream",
          "name": "stdout",
          "text": [
            "Empty DataFrame\n",
            "Columns: [Feature, Frequency]\n",
            "Index: []\n"
          ]
        }
      ]
    },
    {
      "cell_type": "markdown",
      "source": [
        "No features detected with more than 90 % of values being the same"
      ],
      "metadata": {
        "id": "86B9LJskUZrr"
      }
    },
    {
      "cell_type": "code",
      "source": [
        "df_cleaned.columns"
      ],
      "metadata": {
        "colab": {
          "base_uri": "https://localhost:8080/"
        },
        "id": "aDJRXu9STh8J",
        "outputId": "77a98f02-e524-4830-a729-349264d7f4e4"
      },
      "execution_count": null,
      "outputs": [
        {
          "output_type": "execute_result",
          "data": {
            "text/plain": [
              "Index(['uid', 'sex', 'bmi', 'children', 'smoker', 'expenses', 'weight',\n",
              "       'height', 'has_car', 'favorite_color', 'region', 'age'],\n",
              "      dtype='object')"
            ]
          },
          "metadata": {},
          "execution_count": 73
        }
      ]
    },
    {
      "cell_type": "markdown",
      "source": [
        "Drop the features 'uid', 'has_car', 'favorite_color', 'region' as they are not directly relevant to predicting insurance expenses."
      ],
      "metadata": {
        "id": "Q7RWvQTaVp-S"
      }
    },
    {
      "cell_type": "code",
      "source": [
        "# Drop features that are not relevant to insurance expenses\n",
        "irrelevant_features = ['uid', 'has_car', 'favorite_color', 'region']\n",
        "df_cleaned.drop(columns=irrelevant_features, inplace=True)"
      ],
      "metadata": {
        "id": "ot91-7upUl9i"
      },
      "execution_count": null,
      "outputs": []
    },
    {
      "cell_type": "markdown",
      "source": [
        "## Address Skewness and Kurtosis"
      ],
      "metadata": {
        "id": "E6Ol_OEDV3ON"
      }
    },
    {
      "cell_type": "code",
      "source": [
        "# Select numerical features\n",
        "numerical_features = df_cleaned.select_dtypes(include=[np.number])\n",
        "numerical_features"
      ],
      "metadata": {
        "colab": {
          "base_uri": "https://localhost:8080/",
          "height": 423
        },
        "id": "AlbE1DyrVpVO",
        "outputId": "9b662813-4e80-4e14-dc56-e947d1bdd764"
      },
      "execution_count": null,
      "outputs": [
        {
          "output_type": "execute_result",
          "data": {
            "text/plain": [
              "       bmi  children  expenses      weight    height  age\n",
              "0     27.9         0  16884.92   84.239175  1.829196   19\n",
              "1     33.8         1   1725.55   96.367682  1.677255   18\n",
              "2     33.0         3   4449.46   92.328023  1.585170   28\n",
              "3     22.7         0  21984.47   61.590189  1.834498   33\n",
              "4     28.9         0   3866.86   86.014975  1.538240   32\n",
              "...    ...       ...       ...         ...       ...  ...\n",
              "1333  31.0         3  10600.55   87.002240  1.589100   50\n",
              "1334  31.9         0   2205.98   92.934682  1.695332   18\n",
              "1335  36.9         0   1629.83  108.492259  1.559135   18\n",
              "1336  25.8         0   2007.95   79.266655  1.679933   21\n",
              "1337  29.1         0  29141.36   87.308500  1.631976   61\n",
              "\n",
              "[1295 rows x 6 columns]"
            ],
            "text/html": [
              "\n",
              "  <div id=\"df-58e1281f-b1ce-4a4c-87bf-5c3d2e6ad64b\" class=\"colab-df-container\">\n",
              "    <div>\n",
              "<style scoped>\n",
              "    .dataframe tbody tr th:only-of-type {\n",
              "        vertical-align: middle;\n",
              "    }\n",
              "\n",
              "    .dataframe tbody tr th {\n",
              "        vertical-align: top;\n",
              "    }\n",
              "\n",
              "    .dataframe thead th {\n",
              "        text-align: right;\n",
              "    }\n",
              "</style>\n",
              "<table border=\"1\" class=\"dataframe\">\n",
              "  <thead>\n",
              "    <tr style=\"text-align: right;\">\n",
              "      <th></th>\n",
              "      <th>bmi</th>\n",
              "      <th>children</th>\n",
              "      <th>expenses</th>\n",
              "      <th>weight</th>\n",
              "      <th>height</th>\n",
              "      <th>age</th>\n",
              "    </tr>\n",
              "  </thead>\n",
              "  <tbody>\n",
              "    <tr>\n",
              "      <th>0</th>\n",
              "      <td>27.9</td>\n",
              "      <td>0</td>\n",
              "      <td>16884.92</td>\n",
              "      <td>84.239175</td>\n",
              "      <td>1.829196</td>\n",
              "      <td>19</td>\n",
              "    </tr>\n",
              "    <tr>\n",
              "      <th>1</th>\n",
              "      <td>33.8</td>\n",
              "      <td>1</td>\n",
              "      <td>1725.55</td>\n",
              "      <td>96.367682</td>\n",
              "      <td>1.677255</td>\n",
              "      <td>18</td>\n",
              "    </tr>\n",
              "    <tr>\n",
              "      <th>2</th>\n",
              "      <td>33.0</td>\n",
              "      <td>3</td>\n",
              "      <td>4449.46</td>\n",
              "      <td>92.328023</td>\n",
              "      <td>1.585170</td>\n",
              "      <td>28</td>\n",
              "    </tr>\n",
              "    <tr>\n",
              "      <th>3</th>\n",
              "      <td>22.7</td>\n",
              "      <td>0</td>\n",
              "      <td>21984.47</td>\n",
              "      <td>61.590189</td>\n",
              "      <td>1.834498</td>\n",
              "      <td>33</td>\n",
              "    </tr>\n",
              "    <tr>\n",
              "      <th>4</th>\n",
              "      <td>28.9</td>\n",
              "      <td>0</td>\n",
              "      <td>3866.86</td>\n",
              "      <td>86.014975</td>\n",
              "      <td>1.538240</td>\n",
              "      <td>32</td>\n",
              "    </tr>\n",
              "    <tr>\n",
              "      <th>...</th>\n",
              "      <td>...</td>\n",
              "      <td>...</td>\n",
              "      <td>...</td>\n",
              "      <td>...</td>\n",
              "      <td>...</td>\n",
              "      <td>...</td>\n",
              "    </tr>\n",
              "    <tr>\n",
              "      <th>1333</th>\n",
              "      <td>31.0</td>\n",
              "      <td>3</td>\n",
              "      <td>10600.55</td>\n",
              "      <td>87.002240</td>\n",
              "      <td>1.589100</td>\n",
              "      <td>50</td>\n",
              "    </tr>\n",
              "    <tr>\n",
              "      <th>1334</th>\n",
              "      <td>31.9</td>\n",
              "      <td>0</td>\n",
              "      <td>2205.98</td>\n",
              "      <td>92.934682</td>\n",
              "      <td>1.695332</td>\n",
              "      <td>18</td>\n",
              "    </tr>\n",
              "    <tr>\n",
              "      <th>1335</th>\n",
              "      <td>36.9</td>\n",
              "      <td>0</td>\n",
              "      <td>1629.83</td>\n",
              "      <td>108.492259</td>\n",
              "      <td>1.559135</td>\n",
              "      <td>18</td>\n",
              "    </tr>\n",
              "    <tr>\n",
              "      <th>1336</th>\n",
              "      <td>25.8</td>\n",
              "      <td>0</td>\n",
              "      <td>2007.95</td>\n",
              "      <td>79.266655</td>\n",
              "      <td>1.679933</td>\n",
              "      <td>21</td>\n",
              "    </tr>\n",
              "    <tr>\n",
              "      <th>1337</th>\n",
              "      <td>29.1</td>\n",
              "      <td>0</td>\n",
              "      <td>29141.36</td>\n",
              "      <td>87.308500</td>\n",
              "      <td>1.631976</td>\n",
              "      <td>61</td>\n",
              "    </tr>\n",
              "  </tbody>\n",
              "</table>\n",
              "<p>1295 rows × 6 columns</p>\n",
              "</div>\n",
              "    <div class=\"colab-df-buttons\">\n",
              "\n",
              "  <div class=\"colab-df-container\">\n",
              "    <button class=\"colab-df-convert\" onclick=\"convertToInteractive('df-58e1281f-b1ce-4a4c-87bf-5c3d2e6ad64b')\"\n",
              "            title=\"Convert this dataframe to an interactive table.\"\n",
              "            style=\"display:none;\">\n",
              "\n",
              "  <svg xmlns=\"http://www.w3.org/2000/svg\" height=\"24px\" viewBox=\"0 -960 960 960\">\n",
              "    <path d=\"M120-120v-720h720v720H120Zm60-500h600v-160H180v160Zm220 220h160v-160H400v160Zm0 220h160v-160H400v160ZM180-400h160v-160H180v160Zm440 0h160v-160H620v160ZM180-180h160v-160H180v160Zm440 0h160v-160H620v160Z\"/>\n",
              "  </svg>\n",
              "    </button>\n",
              "\n",
              "  <style>\n",
              "    .colab-df-container {\n",
              "      display:flex;\n",
              "      gap: 12px;\n",
              "    }\n",
              "\n",
              "    .colab-df-convert {\n",
              "      background-color: #E8F0FE;\n",
              "      border: none;\n",
              "      border-radius: 50%;\n",
              "      cursor: pointer;\n",
              "      display: none;\n",
              "      fill: #1967D2;\n",
              "      height: 32px;\n",
              "      padding: 0 0 0 0;\n",
              "      width: 32px;\n",
              "    }\n",
              "\n",
              "    .colab-df-convert:hover {\n",
              "      background-color: #E2EBFA;\n",
              "      box-shadow: 0px 1px 2px rgba(60, 64, 67, 0.3), 0px 1px 3px 1px rgba(60, 64, 67, 0.15);\n",
              "      fill: #174EA6;\n",
              "    }\n",
              "\n",
              "    .colab-df-buttons div {\n",
              "      margin-bottom: 4px;\n",
              "    }\n",
              "\n",
              "    [theme=dark] .colab-df-convert {\n",
              "      background-color: #3B4455;\n",
              "      fill: #D2E3FC;\n",
              "    }\n",
              "\n",
              "    [theme=dark] .colab-df-convert:hover {\n",
              "      background-color: #434B5C;\n",
              "      box-shadow: 0px 1px 3px 1px rgba(0, 0, 0, 0.15);\n",
              "      filter: drop-shadow(0px 1px 2px rgba(0, 0, 0, 0.3));\n",
              "      fill: #FFFFFF;\n",
              "    }\n",
              "  </style>\n",
              "\n",
              "    <script>\n",
              "      const buttonEl =\n",
              "        document.querySelector('#df-58e1281f-b1ce-4a4c-87bf-5c3d2e6ad64b button.colab-df-convert');\n",
              "      buttonEl.style.display =\n",
              "        google.colab.kernel.accessAllowed ? 'block' : 'none';\n",
              "\n",
              "      async function convertToInteractive(key) {\n",
              "        const element = document.querySelector('#df-58e1281f-b1ce-4a4c-87bf-5c3d2e6ad64b');\n",
              "        const dataTable =\n",
              "          await google.colab.kernel.invokeFunction('convertToInteractive',\n",
              "                                                    [key], {});\n",
              "        if (!dataTable) return;\n",
              "\n",
              "        const docLinkHtml = 'Like what you see? Visit the ' +\n",
              "          '<a target=\"_blank\" href=https://colab.research.google.com/notebooks/data_table.ipynb>data table notebook</a>'\n",
              "          + ' to learn more about interactive tables.';\n",
              "        element.innerHTML = '';\n",
              "        dataTable['output_type'] = 'display_data';\n",
              "        await google.colab.output.renderOutput(dataTable, element);\n",
              "        const docLink = document.createElement('div');\n",
              "        docLink.innerHTML = docLinkHtml;\n",
              "        element.appendChild(docLink);\n",
              "      }\n",
              "    </script>\n",
              "  </div>\n",
              "\n",
              "\n",
              "<div id=\"df-049f55de-a85c-477f-9840-527b000c4658\">\n",
              "  <button class=\"colab-df-quickchart\" onclick=\"quickchart('df-049f55de-a85c-477f-9840-527b000c4658')\"\n",
              "            title=\"Suggest charts\"\n",
              "            style=\"display:none;\">\n",
              "\n",
              "<svg xmlns=\"http://www.w3.org/2000/svg\" height=\"24px\"viewBox=\"0 0 24 24\"\n",
              "     width=\"24px\">\n",
              "    <g>\n",
              "        <path d=\"M19 3H5c-1.1 0-2 .9-2 2v14c0 1.1.9 2 2 2h14c1.1 0 2-.9 2-2V5c0-1.1-.9-2-2-2zM9 17H7v-7h2v7zm4 0h-2V7h2v10zm4 0h-2v-4h2v4z\"/>\n",
              "    </g>\n",
              "</svg>\n",
              "  </button>\n",
              "\n",
              "<style>\n",
              "  .colab-df-quickchart {\n",
              "      --bg-color: #E8F0FE;\n",
              "      --fill-color: #1967D2;\n",
              "      --hover-bg-color: #E2EBFA;\n",
              "      --hover-fill-color: #174EA6;\n",
              "      --disabled-fill-color: #AAA;\n",
              "      --disabled-bg-color: #DDD;\n",
              "  }\n",
              "\n",
              "  [theme=dark] .colab-df-quickchart {\n",
              "      --bg-color: #3B4455;\n",
              "      --fill-color: #D2E3FC;\n",
              "      --hover-bg-color: #434B5C;\n",
              "      --hover-fill-color: #FFFFFF;\n",
              "      --disabled-bg-color: #3B4455;\n",
              "      --disabled-fill-color: #666;\n",
              "  }\n",
              "\n",
              "  .colab-df-quickchart {\n",
              "    background-color: var(--bg-color);\n",
              "    border: none;\n",
              "    border-radius: 50%;\n",
              "    cursor: pointer;\n",
              "    display: none;\n",
              "    fill: var(--fill-color);\n",
              "    height: 32px;\n",
              "    padding: 0;\n",
              "    width: 32px;\n",
              "  }\n",
              "\n",
              "  .colab-df-quickchart:hover {\n",
              "    background-color: var(--hover-bg-color);\n",
              "    box-shadow: 0 1px 2px rgba(60, 64, 67, 0.3), 0 1px 3px 1px rgba(60, 64, 67, 0.15);\n",
              "    fill: var(--button-hover-fill-color);\n",
              "  }\n",
              "\n",
              "  .colab-df-quickchart-complete:disabled,\n",
              "  .colab-df-quickchart-complete:disabled:hover {\n",
              "    background-color: var(--disabled-bg-color);\n",
              "    fill: var(--disabled-fill-color);\n",
              "    box-shadow: none;\n",
              "  }\n",
              "\n",
              "  .colab-df-spinner {\n",
              "    border: 2px solid var(--fill-color);\n",
              "    border-color: transparent;\n",
              "    border-bottom-color: var(--fill-color);\n",
              "    animation:\n",
              "      spin 1s steps(1) infinite;\n",
              "  }\n",
              "\n",
              "  @keyframes spin {\n",
              "    0% {\n",
              "      border-color: transparent;\n",
              "      border-bottom-color: var(--fill-color);\n",
              "      border-left-color: var(--fill-color);\n",
              "    }\n",
              "    20% {\n",
              "      border-color: transparent;\n",
              "      border-left-color: var(--fill-color);\n",
              "      border-top-color: var(--fill-color);\n",
              "    }\n",
              "    30% {\n",
              "      border-color: transparent;\n",
              "      border-left-color: var(--fill-color);\n",
              "      border-top-color: var(--fill-color);\n",
              "      border-right-color: var(--fill-color);\n",
              "    }\n",
              "    40% {\n",
              "      border-color: transparent;\n",
              "      border-right-color: var(--fill-color);\n",
              "      border-top-color: var(--fill-color);\n",
              "    }\n",
              "    60% {\n",
              "      border-color: transparent;\n",
              "      border-right-color: var(--fill-color);\n",
              "    }\n",
              "    80% {\n",
              "      border-color: transparent;\n",
              "      border-right-color: var(--fill-color);\n",
              "      border-bottom-color: var(--fill-color);\n",
              "    }\n",
              "    90% {\n",
              "      border-color: transparent;\n",
              "      border-bottom-color: var(--fill-color);\n",
              "    }\n",
              "  }\n",
              "</style>\n",
              "\n",
              "  <script>\n",
              "    async function quickchart(key) {\n",
              "      const quickchartButtonEl =\n",
              "        document.querySelector('#' + key + ' button');\n",
              "      quickchartButtonEl.disabled = true;  // To prevent multiple clicks.\n",
              "      quickchartButtonEl.classList.add('colab-df-spinner');\n",
              "      try {\n",
              "        const charts = await google.colab.kernel.invokeFunction(\n",
              "            'suggestCharts', [key], {});\n",
              "      } catch (error) {\n",
              "        console.error('Error during call to suggestCharts:', error);\n",
              "      }\n",
              "      quickchartButtonEl.classList.remove('colab-df-spinner');\n",
              "      quickchartButtonEl.classList.add('colab-df-quickchart-complete');\n",
              "    }\n",
              "    (() => {\n",
              "      let quickchartButtonEl =\n",
              "        document.querySelector('#df-049f55de-a85c-477f-9840-527b000c4658 button');\n",
              "      quickchartButtonEl.style.display =\n",
              "        google.colab.kernel.accessAllowed ? 'block' : 'none';\n",
              "    })();\n",
              "  </script>\n",
              "</div>\n",
              "\n",
              "  <div id=\"id_495dcdd3-2442-45ab-853b-30c63fda202a\">\n",
              "    <style>\n",
              "      .colab-df-generate {\n",
              "        background-color: #E8F0FE;\n",
              "        border: none;\n",
              "        border-radius: 50%;\n",
              "        cursor: pointer;\n",
              "        display: none;\n",
              "        fill: #1967D2;\n",
              "        height: 32px;\n",
              "        padding: 0 0 0 0;\n",
              "        width: 32px;\n",
              "      }\n",
              "\n",
              "      .colab-df-generate:hover {\n",
              "        background-color: #E2EBFA;\n",
              "        box-shadow: 0px 1px 2px rgba(60, 64, 67, 0.3), 0px 1px 3px 1px rgba(60, 64, 67, 0.15);\n",
              "        fill: #174EA6;\n",
              "      }\n",
              "\n",
              "      [theme=dark] .colab-df-generate {\n",
              "        background-color: #3B4455;\n",
              "        fill: #D2E3FC;\n",
              "      }\n",
              "\n",
              "      [theme=dark] .colab-df-generate:hover {\n",
              "        background-color: #434B5C;\n",
              "        box-shadow: 0px 1px 3px 1px rgba(0, 0, 0, 0.15);\n",
              "        filter: drop-shadow(0px 1px 2px rgba(0, 0, 0, 0.3));\n",
              "        fill: #FFFFFF;\n",
              "      }\n",
              "    </style>\n",
              "    <button class=\"colab-df-generate\" onclick=\"generateWithVariable('numerical_features')\"\n",
              "            title=\"Generate code using this dataframe.\"\n",
              "            style=\"display:none;\">\n",
              "\n",
              "  <svg xmlns=\"http://www.w3.org/2000/svg\" height=\"24px\"viewBox=\"0 0 24 24\"\n",
              "       width=\"24px\">\n",
              "    <path d=\"M7,19H8.4L18.45,9,17,7.55,7,17.6ZM5,21V16.75L18.45,3.32a2,2,0,0,1,2.83,0l1.4,1.43a1.91,1.91,0,0,1,.58,1.4,1.91,1.91,0,0,1-.58,1.4L9.25,21ZM18.45,9,17,7.55Zm-12,3A5.31,5.31,0,0,0,4.9,8.1,5.31,5.31,0,0,0,1,6.5,5.31,5.31,0,0,0,4.9,4.9,5.31,5.31,0,0,0,6.5,1,5.31,5.31,0,0,0,8.1,4.9,5.31,5.31,0,0,0,12,6.5,5.46,5.46,0,0,0,6.5,12Z\"/>\n",
              "  </svg>\n",
              "    </button>\n",
              "    <script>\n",
              "      (() => {\n",
              "      const buttonEl =\n",
              "        document.querySelector('#id_495dcdd3-2442-45ab-853b-30c63fda202a button.colab-df-generate');\n",
              "      buttonEl.style.display =\n",
              "        google.colab.kernel.accessAllowed ? 'block' : 'none';\n",
              "\n",
              "      buttonEl.onclick = () => {\n",
              "        google.colab.notebook.generateWithVariable('numerical_features');\n",
              "      }\n",
              "      })();\n",
              "    </script>\n",
              "  </div>\n",
              "\n",
              "    </div>\n",
              "  </div>\n"
            ],
            "application/vnd.google.colaboratory.intrinsic+json": {
              "type": "dataframe",
              "variable_name": "numerical_features",
              "summary": "{\n  \"name\": \"numerical_features\",\n  \"rows\": 1295,\n  \"fields\": [\n    {\n      \"column\": \"bmi\",\n      \"properties\": {\n        \"dtype\": \"number\",\n        \"std\": 5.990502347240295,\n        \"min\": 16.8,\n        \"max\": 48.1,\n        \"num_unique_values\": 268,\n        \"samples\": [\n          29.2,\n          43.1,\n          34.1\n        ],\n        \"semantic_type\": \"\",\n        \"description\": \"\"\n      }\n    },\n    {\n      \"column\": \"children\",\n      \"properties\": {\n        \"dtype\": \"number\",\n        \"std\": 1,\n        \"min\": 0,\n        \"max\": 5,\n        \"num_unique_values\": 6,\n        \"samples\": [\n          0,\n          1,\n          4\n        ],\n        \"semantic_type\": \"\",\n        \"description\": \"\"\n      }\n    },\n    {\n      \"column\": \"expenses\",\n      \"properties\": {\n        \"dtype\": \"number\",\n        \"std\": 11687.378722265248,\n        \"min\": 0.0,\n        \"max\": 49577.66,\n        \"num_unique_values\": 1294,\n        \"samples\": [\n          13844.51,\n          8211.1,\n          9182.17\n        ],\n        \"semantic_type\": \"\",\n        \"description\": \"\"\n      }\n    },\n    {\n      \"column\": \"weight\",\n      \"properties\": {\n        \"dtype\": \"number\",\n        \"std\": 17.47638499936695,\n        \"min\": 45.46937248197776,\n        \"max\": 143.13192839479385,\n        \"num_unique_values\": 1295,\n        \"samples\": [\n          52.66278808789768,\n          82.69792149783534,\n          73.1760823925381\n        ],\n        \"semantic_type\": \"\",\n        \"description\": \"\"\n      }\n    },\n    {\n      \"column\": \"height\",\n      \"properties\": {\n        \"dtype\": \"number\",\n        \"std\": 0.10754040983624968,\n        \"min\": 1.513195949789388,\n        \"max\": 1.88647641144498,\n        \"num_unique_values\": 1295,\n        \"samples\": [\n          1.863282256028984,\n          1.58838728901905,\n          1.7210363187369233\n        ],\n        \"semantic_type\": \"\",\n        \"description\": \"\"\n      }\n    },\n    {\n      \"column\": \"age\",\n      \"properties\": {\n        \"dtype\": \"number\",\n        \"std\": 14,\n        \"min\": 18,\n        \"max\": 64,\n        \"num_unique_values\": 47,\n        \"samples\": [\n          21,\n          45,\n          36\n        ],\n        \"semantic_type\": \"\",\n        \"description\": \"\"\n      }\n    }\n  ]\n}"
            }
          },
          "metadata": {},
          "execution_count": 77
        }
      ]
    },
    {
      "cell_type": "code",
      "source": [
        "# Calculate skewness and kurtosis\n",
        "skewness = numerical_features.skew()\n",
        "kurt = numerical_features.kurtosis()\n",
        "\n",
        "# Combine skewness and kurtosis into a DataFrame\n",
        "skew_kurt = pd.DataFrame({'Skewness': skewness, 'Kurtosis': kurt})\n",
        "skew_kurt"
      ],
      "metadata": {
        "colab": {
          "base_uri": "https://localhost:8080/",
          "height": 237
        },
        "id": "-pYspbSDWHGP",
        "outputId": "f33b6fe5-349c-4be8-c127-7b31a0c9e008"
      },
      "execution_count": null,
      "outputs": [
        {
          "output_type": "execute_result",
          "data": {
            "text/plain": [
              "          Skewness  Kurtosis\n",
              "bmi       0.215430 -0.297722\n",
              "children  0.933348  0.191235\n",
              "expenses  1.442257  1.233666\n",
              "weight    0.194372 -0.286758\n",
              "height    0.052034 -1.216519\n",
              "age       0.046126 -1.246695"
            ],
            "text/html": [
              "\n",
              "  <div id=\"df-e09cc1d9-ccf4-4718-9e1a-f583b94ad452\" class=\"colab-df-container\">\n",
              "    <div>\n",
              "<style scoped>\n",
              "    .dataframe tbody tr th:only-of-type {\n",
              "        vertical-align: middle;\n",
              "    }\n",
              "\n",
              "    .dataframe tbody tr th {\n",
              "        vertical-align: top;\n",
              "    }\n",
              "\n",
              "    .dataframe thead th {\n",
              "        text-align: right;\n",
              "    }\n",
              "</style>\n",
              "<table border=\"1\" class=\"dataframe\">\n",
              "  <thead>\n",
              "    <tr style=\"text-align: right;\">\n",
              "      <th></th>\n",
              "      <th>Skewness</th>\n",
              "      <th>Kurtosis</th>\n",
              "    </tr>\n",
              "  </thead>\n",
              "  <tbody>\n",
              "    <tr>\n",
              "      <th>bmi</th>\n",
              "      <td>0.215430</td>\n",
              "      <td>-0.297722</td>\n",
              "    </tr>\n",
              "    <tr>\n",
              "      <th>children</th>\n",
              "      <td>0.933348</td>\n",
              "      <td>0.191235</td>\n",
              "    </tr>\n",
              "    <tr>\n",
              "      <th>expenses</th>\n",
              "      <td>1.442257</td>\n",
              "      <td>1.233666</td>\n",
              "    </tr>\n",
              "    <tr>\n",
              "      <th>weight</th>\n",
              "      <td>0.194372</td>\n",
              "      <td>-0.286758</td>\n",
              "    </tr>\n",
              "    <tr>\n",
              "      <th>height</th>\n",
              "      <td>0.052034</td>\n",
              "      <td>-1.216519</td>\n",
              "    </tr>\n",
              "    <tr>\n",
              "      <th>age</th>\n",
              "      <td>0.046126</td>\n",
              "      <td>-1.246695</td>\n",
              "    </tr>\n",
              "  </tbody>\n",
              "</table>\n",
              "</div>\n",
              "    <div class=\"colab-df-buttons\">\n",
              "\n",
              "  <div class=\"colab-df-container\">\n",
              "    <button class=\"colab-df-convert\" onclick=\"convertToInteractive('df-e09cc1d9-ccf4-4718-9e1a-f583b94ad452')\"\n",
              "            title=\"Convert this dataframe to an interactive table.\"\n",
              "            style=\"display:none;\">\n",
              "\n",
              "  <svg xmlns=\"http://www.w3.org/2000/svg\" height=\"24px\" viewBox=\"0 -960 960 960\">\n",
              "    <path d=\"M120-120v-720h720v720H120Zm60-500h600v-160H180v160Zm220 220h160v-160H400v160Zm0 220h160v-160H400v160ZM180-400h160v-160H180v160Zm440 0h160v-160H620v160ZM180-180h160v-160H180v160Zm440 0h160v-160H620v160Z\"/>\n",
              "  </svg>\n",
              "    </button>\n",
              "\n",
              "  <style>\n",
              "    .colab-df-container {\n",
              "      display:flex;\n",
              "      gap: 12px;\n",
              "    }\n",
              "\n",
              "    .colab-df-convert {\n",
              "      background-color: #E8F0FE;\n",
              "      border: none;\n",
              "      border-radius: 50%;\n",
              "      cursor: pointer;\n",
              "      display: none;\n",
              "      fill: #1967D2;\n",
              "      height: 32px;\n",
              "      padding: 0 0 0 0;\n",
              "      width: 32px;\n",
              "    }\n",
              "\n",
              "    .colab-df-convert:hover {\n",
              "      background-color: #E2EBFA;\n",
              "      box-shadow: 0px 1px 2px rgba(60, 64, 67, 0.3), 0px 1px 3px 1px rgba(60, 64, 67, 0.15);\n",
              "      fill: #174EA6;\n",
              "    }\n",
              "\n",
              "    .colab-df-buttons div {\n",
              "      margin-bottom: 4px;\n",
              "    }\n",
              "\n",
              "    [theme=dark] .colab-df-convert {\n",
              "      background-color: #3B4455;\n",
              "      fill: #D2E3FC;\n",
              "    }\n",
              "\n",
              "    [theme=dark] .colab-df-convert:hover {\n",
              "      background-color: #434B5C;\n",
              "      box-shadow: 0px 1px 3px 1px rgba(0, 0, 0, 0.15);\n",
              "      filter: drop-shadow(0px 1px 2px rgba(0, 0, 0, 0.3));\n",
              "      fill: #FFFFFF;\n",
              "    }\n",
              "  </style>\n",
              "\n",
              "    <script>\n",
              "      const buttonEl =\n",
              "        document.querySelector('#df-e09cc1d9-ccf4-4718-9e1a-f583b94ad452 button.colab-df-convert');\n",
              "      buttonEl.style.display =\n",
              "        google.colab.kernel.accessAllowed ? 'block' : 'none';\n",
              "\n",
              "      async function convertToInteractive(key) {\n",
              "        const element = document.querySelector('#df-e09cc1d9-ccf4-4718-9e1a-f583b94ad452');\n",
              "        const dataTable =\n",
              "          await google.colab.kernel.invokeFunction('convertToInteractive',\n",
              "                                                    [key], {});\n",
              "        if (!dataTable) return;\n",
              "\n",
              "        const docLinkHtml = 'Like what you see? Visit the ' +\n",
              "          '<a target=\"_blank\" href=https://colab.research.google.com/notebooks/data_table.ipynb>data table notebook</a>'\n",
              "          + ' to learn more about interactive tables.';\n",
              "        element.innerHTML = '';\n",
              "        dataTable['output_type'] = 'display_data';\n",
              "        await google.colab.output.renderOutput(dataTable, element);\n",
              "        const docLink = document.createElement('div');\n",
              "        docLink.innerHTML = docLinkHtml;\n",
              "        element.appendChild(docLink);\n",
              "      }\n",
              "    </script>\n",
              "  </div>\n",
              "\n",
              "\n",
              "<div id=\"df-25327da0-f71f-4b84-be1d-70cfd8b5829d\">\n",
              "  <button class=\"colab-df-quickchart\" onclick=\"quickchart('df-25327da0-f71f-4b84-be1d-70cfd8b5829d')\"\n",
              "            title=\"Suggest charts\"\n",
              "            style=\"display:none;\">\n",
              "\n",
              "<svg xmlns=\"http://www.w3.org/2000/svg\" height=\"24px\"viewBox=\"0 0 24 24\"\n",
              "     width=\"24px\">\n",
              "    <g>\n",
              "        <path d=\"M19 3H5c-1.1 0-2 .9-2 2v14c0 1.1.9 2 2 2h14c1.1 0 2-.9 2-2V5c0-1.1-.9-2-2-2zM9 17H7v-7h2v7zm4 0h-2V7h2v10zm4 0h-2v-4h2v4z\"/>\n",
              "    </g>\n",
              "</svg>\n",
              "  </button>\n",
              "\n",
              "<style>\n",
              "  .colab-df-quickchart {\n",
              "      --bg-color: #E8F0FE;\n",
              "      --fill-color: #1967D2;\n",
              "      --hover-bg-color: #E2EBFA;\n",
              "      --hover-fill-color: #174EA6;\n",
              "      --disabled-fill-color: #AAA;\n",
              "      --disabled-bg-color: #DDD;\n",
              "  }\n",
              "\n",
              "  [theme=dark] .colab-df-quickchart {\n",
              "      --bg-color: #3B4455;\n",
              "      --fill-color: #D2E3FC;\n",
              "      --hover-bg-color: #434B5C;\n",
              "      --hover-fill-color: #FFFFFF;\n",
              "      --disabled-bg-color: #3B4455;\n",
              "      --disabled-fill-color: #666;\n",
              "  }\n",
              "\n",
              "  .colab-df-quickchart {\n",
              "    background-color: var(--bg-color);\n",
              "    border: none;\n",
              "    border-radius: 50%;\n",
              "    cursor: pointer;\n",
              "    display: none;\n",
              "    fill: var(--fill-color);\n",
              "    height: 32px;\n",
              "    padding: 0;\n",
              "    width: 32px;\n",
              "  }\n",
              "\n",
              "  .colab-df-quickchart:hover {\n",
              "    background-color: var(--hover-bg-color);\n",
              "    box-shadow: 0 1px 2px rgba(60, 64, 67, 0.3), 0 1px 3px 1px rgba(60, 64, 67, 0.15);\n",
              "    fill: var(--button-hover-fill-color);\n",
              "  }\n",
              "\n",
              "  .colab-df-quickchart-complete:disabled,\n",
              "  .colab-df-quickchart-complete:disabled:hover {\n",
              "    background-color: var(--disabled-bg-color);\n",
              "    fill: var(--disabled-fill-color);\n",
              "    box-shadow: none;\n",
              "  }\n",
              "\n",
              "  .colab-df-spinner {\n",
              "    border: 2px solid var(--fill-color);\n",
              "    border-color: transparent;\n",
              "    border-bottom-color: var(--fill-color);\n",
              "    animation:\n",
              "      spin 1s steps(1) infinite;\n",
              "  }\n",
              "\n",
              "  @keyframes spin {\n",
              "    0% {\n",
              "      border-color: transparent;\n",
              "      border-bottom-color: var(--fill-color);\n",
              "      border-left-color: var(--fill-color);\n",
              "    }\n",
              "    20% {\n",
              "      border-color: transparent;\n",
              "      border-left-color: var(--fill-color);\n",
              "      border-top-color: var(--fill-color);\n",
              "    }\n",
              "    30% {\n",
              "      border-color: transparent;\n",
              "      border-left-color: var(--fill-color);\n",
              "      border-top-color: var(--fill-color);\n",
              "      border-right-color: var(--fill-color);\n",
              "    }\n",
              "    40% {\n",
              "      border-color: transparent;\n",
              "      border-right-color: var(--fill-color);\n",
              "      border-top-color: var(--fill-color);\n",
              "    }\n",
              "    60% {\n",
              "      border-color: transparent;\n",
              "      border-right-color: var(--fill-color);\n",
              "    }\n",
              "    80% {\n",
              "      border-color: transparent;\n",
              "      border-right-color: var(--fill-color);\n",
              "      border-bottom-color: var(--fill-color);\n",
              "    }\n",
              "    90% {\n",
              "      border-color: transparent;\n",
              "      border-bottom-color: var(--fill-color);\n",
              "    }\n",
              "  }\n",
              "</style>\n",
              "\n",
              "  <script>\n",
              "    async function quickchart(key) {\n",
              "      const quickchartButtonEl =\n",
              "        document.querySelector('#' + key + ' button');\n",
              "      quickchartButtonEl.disabled = true;  // To prevent multiple clicks.\n",
              "      quickchartButtonEl.classList.add('colab-df-spinner');\n",
              "      try {\n",
              "        const charts = await google.colab.kernel.invokeFunction(\n",
              "            'suggestCharts', [key], {});\n",
              "      } catch (error) {\n",
              "        console.error('Error during call to suggestCharts:', error);\n",
              "      }\n",
              "      quickchartButtonEl.classList.remove('colab-df-spinner');\n",
              "      quickchartButtonEl.classList.add('colab-df-quickchart-complete');\n",
              "    }\n",
              "    (() => {\n",
              "      let quickchartButtonEl =\n",
              "        document.querySelector('#df-25327da0-f71f-4b84-be1d-70cfd8b5829d button');\n",
              "      quickchartButtonEl.style.display =\n",
              "        google.colab.kernel.accessAllowed ? 'block' : 'none';\n",
              "    })();\n",
              "  </script>\n",
              "</div>\n",
              "\n",
              "  <div id=\"id_dd6d45c7-b06d-4efd-aac2-1b7073f561a7\">\n",
              "    <style>\n",
              "      .colab-df-generate {\n",
              "        background-color: #E8F0FE;\n",
              "        border: none;\n",
              "        border-radius: 50%;\n",
              "        cursor: pointer;\n",
              "        display: none;\n",
              "        fill: #1967D2;\n",
              "        height: 32px;\n",
              "        padding: 0 0 0 0;\n",
              "        width: 32px;\n",
              "      }\n",
              "\n",
              "      .colab-df-generate:hover {\n",
              "        background-color: #E2EBFA;\n",
              "        box-shadow: 0px 1px 2px rgba(60, 64, 67, 0.3), 0px 1px 3px 1px rgba(60, 64, 67, 0.15);\n",
              "        fill: #174EA6;\n",
              "      }\n",
              "\n",
              "      [theme=dark] .colab-df-generate {\n",
              "        background-color: #3B4455;\n",
              "        fill: #D2E3FC;\n",
              "      }\n",
              "\n",
              "      [theme=dark] .colab-df-generate:hover {\n",
              "        background-color: #434B5C;\n",
              "        box-shadow: 0px 1px 3px 1px rgba(0, 0, 0, 0.15);\n",
              "        filter: drop-shadow(0px 1px 2px rgba(0, 0, 0, 0.3));\n",
              "        fill: #FFFFFF;\n",
              "      }\n",
              "    </style>\n",
              "    <button class=\"colab-df-generate\" onclick=\"generateWithVariable('skew_kurt')\"\n",
              "            title=\"Generate code using this dataframe.\"\n",
              "            style=\"display:none;\">\n",
              "\n",
              "  <svg xmlns=\"http://www.w3.org/2000/svg\" height=\"24px\"viewBox=\"0 0 24 24\"\n",
              "       width=\"24px\">\n",
              "    <path d=\"M7,19H8.4L18.45,9,17,7.55,7,17.6ZM5,21V16.75L18.45,3.32a2,2,0,0,1,2.83,0l1.4,1.43a1.91,1.91,0,0,1,.58,1.4,1.91,1.91,0,0,1-.58,1.4L9.25,21ZM18.45,9,17,7.55Zm-12,3A5.31,5.31,0,0,0,4.9,8.1,5.31,5.31,0,0,0,1,6.5,5.31,5.31,0,0,0,4.9,4.9,5.31,5.31,0,0,0,6.5,1,5.31,5.31,0,0,0,8.1,4.9,5.31,5.31,0,0,0,12,6.5,5.46,5.46,0,0,0,6.5,12Z\"/>\n",
              "  </svg>\n",
              "    </button>\n",
              "    <script>\n",
              "      (() => {\n",
              "      const buttonEl =\n",
              "        document.querySelector('#id_dd6d45c7-b06d-4efd-aac2-1b7073f561a7 button.colab-df-generate');\n",
              "      buttonEl.style.display =\n",
              "        google.colab.kernel.accessAllowed ? 'block' : 'none';\n",
              "\n",
              "      buttonEl.onclick = () => {\n",
              "        google.colab.notebook.generateWithVariable('skew_kurt');\n",
              "      }\n",
              "      })();\n",
              "    </script>\n",
              "  </div>\n",
              "\n",
              "    </div>\n",
              "  </div>\n"
            ],
            "application/vnd.google.colaboratory.intrinsic+json": {
              "type": "dataframe",
              "variable_name": "skew_kurt",
              "summary": "{\n  \"name\": \"skew_kurt\",\n  \"rows\": 6,\n  \"fields\": [\n    {\n      \"column\": \"Skewness\",\n      \"properties\": {\n        \"dtype\": \"number\",\n        \"std\": 0.5752292073401057,\n        \"min\": 0.04612576902713967,\n        \"max\": 1.4422570690432357,\n        \"num_unique_values\": 6,\n        \"samples\": [\n          0.21543025942820437,\n          0.9333480301097136,\n          0.04612576902713967\n        ],\n        \"semantic_type\": \"\",\n        \"description\": \"\"\n      }\n    },\n    {\n      \"column\": \"Kurtosis\",\n      \"properties\": {\n        \"dtype\": \"number\",\n        \"std\": 0.9300136337717283,\n        \"min\": -1.2466952134919829,\n        \"max\": 1.2336655038655908,\n        \"num_unique_values\": 6,\n        \"samples\": [\n          -0.2977223107573339,\n          0.19123461956297305,\n          -1.2466952134919829\n        ],\n        \"semantic_type\": \"\",\n        \"description\": \"\"\n      }\n    }\n  ]\n}"
            }
          },
          "metadata": {},
          "execution_count": 78
        }
      ]
    },
    {
      "cell_type": "code",
      "source": [
        "skew_kurt[ (abs(skew_kurt['Skewness']) > 1) | (abs(skew_kurt['Kurtosis'] > 0)) ]"
      ],
      "metadata": {
        "colab": {
          "base_uri": "https://localhost:8080/",
          "height": 112
        },
        "id": "D6vJ-Sh8WVRl",
        "outputId": "ee3709dc-570b-4764-cfef-23f94a2bf6da"
      },
      "execution_count": null,
      "outputs": [
        {
          "output_type": "execute_result",
          "data": {
            "text/plain": [
              "          Skewness  Kurtosis\n",
              "children  0.933348  0.191235\n",
              "expenses  1.442257  1.233666"
            ],
            "text/html": [
              "\n",
              "  <div id=\"df-305a2a0f-a749-4996-bb0a-1e83573c3ce5\" class=\"colab-df-container\">\n",
              "    <div>\n",
              "<style scoped>\n",
              "    .dataframe tbody tr th:only-of-type {\n",
              "        vertical-align: middle;\n",
              "    }\n",
              "\n",
              "    .dataframe tbody tr th {\n",
              "        vertical-align: top;\n",
              "    }\n",
              "\n",
              "    .dataframe thead th {\n",
              "        text-align: right;\n",
              "    }\n",
              "</style>\n",
              "<table border=\"1\" class=\"dataframe\">\n",
              "  <thead>\n",
              "    <tr style=\"text-align: right;\">\n",
              "      <th></th>\n",
              "      <th>Skewness</th>\n",
              "      <th>Kurtosis</th>\n",
              "    </tr>\n",
              "  </thead>\n",
              "  <tbody>\n",
              "    <tr>\n",
              "      <th>children</th>\n",
              "      <td>0.933348</td>\n",
              "      <td>0.191235</td>\n",
              "    </tr>\n",
              "    <tr>\n",
              "      <th>expenses</th>\n",
              "      <td>1.442257</td>\n",
              "      <td>1.233666</td>\n",
              "    </tr>\n",
              "  </tbody>\n",
              "</table>\n",
              "</div>\n",
              "    <div class=\"colab-df-buttons\">\n",
              "\n",
              "  <div class=\"colab-df-container\">\n",
              "    <button class=\"colab-df-convert\" onclick=\"convertToInteractive('df-305a2a0f-a749-4996-bb0a-1e83573c3ce5')\"\n",
              "            title=\"Convert this dataframe to an interactive table.\"\n",
              "            style=\"display:none;\">\n",
              "\n",
              "  <svg xmlns=\"http://www.w3.org/2000/svg\" height=\"24px\" viewBox=\"0 -960 960 960\">\n",
              "    <path d=\"M120-120v-720h720v720H120Zm60-500h600v-160H180v160Zm220 220h160v-160H400v160Zm0 220h160v-160H400v160ZM180-400h160v-160H180v160Zm440 0h160v-160H620v160ZM180-180h160v-160H180v160Zm440 0h160v-160H620v160Z\"/>\n",
              "  </svg>\n",
              "    </button>\n",
              "\n",
              "  <style>\n",
              "    .colab-df-container {\n",
              "      display:flex;\n",
              "      gap: 12px;\n",
              "    }\n",
              "\n",
              "    .colab-df-convert {\n",
              "      background-color: #E8F0FE;\n",
              "      border: none;\n",
              "      border-radius: 50%;\n",
              "      cursor: pointer;\n",
              "      display: none;\n",
              "      fill: #1967D2;\n",
              "      height: 32px;\n",
              "      padding: 0 0 0 0;\n",
              "      width: 32px;\n",
              "    }\n",
              "\n",
              "    .colab-df-convert:hover {\n",
              "      background-color: #E2EBFA;\n",
              "      box-shadow: 0px 1px 2px rgba(60, 64, 67, 0.3), 0px 1px 3px 1px rgba(60, 64, 67, 0.15);\n",
              "      fill: #174EA6;\n",
              "    }\n",
              "\n",
              "    .colab-df-buttons div {\n",
              "      margin-bottom: 4px;\n",
              "    }\n",
              "\n",
              "    [theme=dark] .colab-df-convert {\n",
              "      background-color: #3B4455;\n",
              "      fill: #D2E3FC;\n",
              "    }\n",
              "\n",
              "    [theme=dark] .colab-df-convert:hover {\n",
              "      background-color: #434B5C;\n",
              "      box-shadow: 0px 1px 3px 1px rgba(0, 0, 0, 0.15);\n",
              "      filter: drop-shadow(0px 1px 2px rgba(0, 0, 0, 0.3));\n",
              "      fill: #FFFFFF;\n",
              "    }\n",
              "  </style>\n",
              "\n",
              "    <script>\n",
              "      const buttonEl =\n",
              "        document.querySelector('#df-305a2a0f-a749-4996-bb0a-1e83573c3ce5 button.colab-df-convert');\n",
              "      buttonEl.style.display =\n",
              "        google.colab.kernel.accessAllowed ? 'block' : 'none';\n",
              "\n",
              "      async function convertToInteractive(key) {\n",
              "        const element = document.querySelector('#df-305a2a0f-a749-4996-bb0a-1e83573c3ce5');\n",
              "        const dataTable =\n",
              "          await google.colab.kernel.invokeFunction('convertToInteractive',\n",
              "                                                    [key], {});\n",
              "        if (!dataTable) return;\n",
              "\n",
              "        const docLinkHtml = 'Like what you see? Visit the ' +\n",
              "          '<a target=\"_blank\" href=https://colab.research.google.com/notebooks/data_table.ipynb>data table notebook</a>'\n",
              "          + ' to learn more about interactive tables.';\n",
              "        element.innerHTML = '';\n",
              "        dataTable['output_type'] = 'display_data';\n",
              "        await google.colab.output.renderOutput(dataTable, element);\n",
              "        const docLink = document.createElement('div');\n",
              "        docLink.innerHTML = docLinkHtml;\n",
              "        element.appendChild(docLink);\n",
              "      }\n",
              "    </script>\n",
              "  </div>\n",
              "\n",
              "\n",
              "<div id=\"df-51e2b158-e1e3-40b0-8625-0f8487e9aa4c\">\n",
              "  <button class=\"colab-df-quickchart\" onclick=\"quickchart('df-51e2b158-e1e3-40b0-8625-0f8487e9aa4c')\"\n",
              "            title=\"Suggest charts\"\n",
              "            style=\"display:none;\">\n",
              "\n",
              "<svg xmlns=\"http://www.w3.org/2000/svg\" height=\"24px\"viewBox=\"0 0 24 24\"\n",
              "     width=\"24px\">\n",
              "    <g>\n",
              "        <path d=\"M19 3H5c-1.1 0-2 .9-2 2v14c0 1.1.9 2 2 2h14c1.1 0 2-.9 2-2V5c0-1.1-.9-2-2-2zM9 17H7v-7h2v7zm4 0h-2V7h2v10zm4 0h-2v-4h2v4z\"/>\n",
              "    </g>\n",
              "</svg>\n",
              "  </button>\n",
              "\n",
              "<style>\n",
              "  .colab-df-quickchart {\n",
              "      --bg-color: #E8F0FE;\n",
              "      --fill-color: #1967D2;\n",
              "      --hover-bg-color: #E2EBFA;\n",
              "      --hover-fill-color: #174EA6;\n",
              "      --disabled-fill-color: #AAA;\n",
              "      --disabled-bg-color: #DDD;\n",
              "  }\n",
              "\n",
              "  [theme=dark] .colab-df-quickchart {\n",
              "      --bg-color: #3B4455;\n",
              "      --fill-color: #D2E3FC;\n",
              "      --hover-bg-color: #434B5C;\n",
              "      --hover-fill-color: #FFFFFF;\n",
              "      --disabled-bg-color: #3B4455;\n",
              "      --disabled-fill-color: #666;\n",
              "  }\n",
              "\n",
              "  .colab-df-quickchart {\n",
              "    background-color: var(--bg-color);\n",
              "    border: none;\n",
              "    border-radius: 50%;\n",
              "    cursor: pointer;\n",
              "    display: none;\n",
              "    fill: var(--fill-color);\n",
              "    height: 32px;\n",
              "    padding: 0;\n",
              "    width: 32px;\n",
              "  }\n",
              "\n",
              "  .colab-df-quickchart:hover {\n",
              "    background-color: var(--hover-bg-color);\n",
              "    box-shadow: 0 1px 2px rgba(60, 64, 67, 0.3), 0 1px 3px 1px rgba(60, 64, 67, 0.15);\n",
              "    fill: var(--button-hover-fill-color);\n",
              "  }\n",
              "\n",
              "  .colab-df-quickchart-complete:disabled,\n",
              "  .colab-df-quickchart-complete:disabled:hover {\n",
              "    background-color: var(--disabled-bg-color);\n",
              "    fill: var(--disabled-fill-color);\n",
              "    box-shadow: none;\n",
              "  }\n",
              "\n",
              "  .colab-df-spinner {\n",
              "    border: 2px solid var(--fill-color);\n",
              "    border-color: transparent;\n",
              "    border-bottom-color: var(--fill-color);\n",
              "    animation:\n",
              "      spin 1s steps(1) infinite;\n",
              "  }\n",
              "\n",
              "  @keyframes spin {\n",
              "    0% {\n",
              "      border-color: transparent;\n",
              "      border-bottom-color: var(--fill-color);\n",
              "      border-left-color: var(--fill-color);\n",
              "    }\n",
              "    20% {\n",
              "      border-color: transparent;\n",
              "      border-left-color: var(--fill-color);\n",
              "      border-top-color: var(--fill-color);\n",
              "    }\n",
              "    30% {\n",
              "      border-color: transparent;\n",
              "      border-left-color: var(--fill-color);\n",
              "      border-top-color: var(--fill-color);\n",
              "      border-right-color: var(--fill-color);\n",
              "    }\n",
              "    40% {\n",
              "      border-color: transparent;\n",
              "      border-right-color: var(--fill-color);\n",
              "      border-top-color: var(--fill-color);\n",
              "    }\n",
              "    60% {\n",
              "      border-color: transparent;\n",
              "      border-right-color: var(--fill-color);\n",
              "    }\n",
              "    80% {\n",
              "      border-color: transparent;\n",
              "      border-right-color: var(--fill-color);\n",
              "      border-bottom-color: var(--fill-color);\n",
              "    }\n",
              "    90% {\n",
              "      border-color: transparent;\n",
              "      border-bottom-color: var(--fill-color);\n",
              "    }\n",
              "  }\n",
              "</style>\n",
              "\n",
              "  <script>\n",
              "    async function quickchart(key) {\n",
              "      const quickchartButtonEl =\n",
              "        document.querySelector('#' + key + ' button');\n",
              "      quickchartButtonEl.disabled = true;  // To prevent multiple clicks.\n",
              "      quickchartButtonEl.classList.add('colab-df-spinner');\n",
              "      try {\n",
              "        const charts = await google.colab.kernel.invokeFunction(\n",
              "            'suggestCharts', [key], {});\n",
              "      } catch (error) {\n",
              "        console.error('Error during call to suggestCharts:', error);\n",
              "      }\n",
              "      quickchartButtonEl.classList.remove('colab-df-spinner');\n",
              "      quickchartButtonEl.classList.add('colab-df-quickchart-complete');\n",
              "    }\n",
              "    (() => {\n",
              "      let quickchartButtonEl =\n",
              "        document.querySelector('#df-51e2b158-e1e3-40b0-8625-0f8487e9aa4c button');\n",
              "      quickchartButtonEl.style.display =\n",
              "        google.colab.kernel.accessAllowed ? 'block' : 'none';\n",
              "    })();\n",
              "  </script>\n",
              "</div>\n",
              "\n",
              "    </div>\n",
              "  </div>\n"
            ],
            "application/vnd.google.colaboratory.intrinsic+json": {
              "type": "dataframe",
              "summary": "{\n  \"name\": \"skew_kurt[ (abs(skew_kurt['Skewness']) > 1) | (abs(skew_kurt['Kurtosis'] > 0)) ]\",\n  \"rows\": 2,\n  \"fields\": [\n    {\n      \"column\": \"Skewness\",\n      \"properties\": {\n        \"dtype\": \"number\",\n        \"std\": 0.3598530324370222,\n        \"min\": 0.9333480301097136,\n        \"max\": 1.4422570690432357,\n        \"num_unique_values\": 2,\n        \"samples\": [\n          1.4422570690432357,\n          0.9333480301097136\n        ],\n        \"semantic_type\": \"\",\n        \"description\": \"\"\n      }\n    },\n    {\n      \"column\": \"Kurtosis\",\n      \"properties\": {\n        \"dtype\": \"number\",\n        \"std\": 0.7371099472086704,\n        \"min\": 0.19123461956297305,\n        \"max\": 1.2336655038655908,\n        \"num_unique_values\": 2,\n        \"samples\": [\n          1.2336655038655908,\n          0.19123461956297305\n        ],\n        \"semantic_type\": \"\",\n        \"description\": \"\"\n      }\n    }\n  ]\n}"
            }
          },
          "metadata": {},
          "execution_count": 79
        }
      ]
    },
    {
      "cell_type": "code",
      "source": [
        "plot_diff('expenses')"
      ],
      "metadata": {
        "colab": {
          "base_uri": "https://localhost:8080/",
          "height": 533
        },
        "id": "hLfsy7WZWYs8",
        "outputId": "d8f0e8a1-5b7c-42ec-e55a-3a59ababda1d"
      },
      "execution_count": null,
      "outputs": [
        {
          "output_type": "display_data",
          "data": {
            "text/plain": [
              "<Figure size 1500x800 with 2 Axes>"
            ],
            "image/png": "[encoded data removed]"
          },
          "metadata": {}
        }
      ]
    },
    {
      "cell_type": "markdown",
      "source": [
        "Skewness is greater than 1, it means that 'expenses' feature distribution is right_skewed. Also Kurtosis is high for this feature."
      ],
      "metadata": {
        "id": "kfxxhOy7WzjW"
      }
    },
    {
      "cell_type": "code",
      "source": [
        "skewness = df_cleaned['expenses'].skew() ## Skewness of expenses feature before transformation\n",
        "print(f\"{skewness:.3f}\", 'expenses skewness')\n",
        "skewness_log = np.log1p(df_cleaned['expenses']).skew() ## Skewness of expenses feature after log transformation\n",
        "print(f\"{skewness_log:.3f}\", 'expenses skewness after log transformation')\n",
        "skewness_sqrt = np.sqrt(df_cleaned['expenses']).skew() ## Skewness of expenses feature after sqrt transformation\n",
        "print(f\"{skewness_sqrt:.3f}\", 'expenses skewness after sqrt transformation')"
      ],
      "metadata": {
        "id": "hza2RCeRWosM",
        "colab": {
          "base_uri": "https://localhost:8080/"
        },
        "outputId": "d82e63a3-163d-4c9e-d74e-378bf1861789"
      },
      "execution_count": null,
      "outputs": [
        {
          "output_type": "stream",
          "name": "stdout",
          "text": [
            "1.442 expenses skewness\n",
            "-0.771 expenses skewness after log transformation\n",
            "0.750 expenses skewness after sqrt transformation\n"
          ]
        }
      ]
    },
    {
      "cell_type": "markdown",
      "source": [
        "'Expenses' feature skewness was close to normal distribution skewness after sqrt transformation"
      ],
      "metadata": {
        "id": "qocOmMexYH9o"
      }
    },
    {
      "cell_type": "code",
      "source": [
        "## Let's calculate also kurtosis after sqrt transformation\n",
        "kurtosis_sqrt = np.sqrt(df_cleaned['expenses']).kurtosis() ## Kurtosis of expenses feature after sqrt transformation\n",
        "print(f\"{kurtosis_sqrt:.3f}\", 'expenses kurtosis after sqrt transformation')"
      ],
      "metadata": {
        "colab": {
          "base_uri": "https://localhost:8080/"
        },
        "id": "VYlJCqPEYA9w",
        "outputId": "774d68d2-800e-4335-cccb-fe739a9486f7"
      },
      "execution_count": null,
      "outputs": [
        {
          "output_type": "stream",
          "name": "stdout",
          "text": [
            "-0.164 expenses kurtosis after sqrt transformation\n"
          ]
        }
      ]
    },
    {
      "cell_type": "markdown",
      "source": [
        "Kurtosis is also close to normal distribution kurtosis after sqrt transformation"
      ],
      "metadata": {
        "id": "s29vOIMXY89r"
      }
    },
    {
      "cell_type": "code",
      "source": [
        "import matplotlib.pyplot as plt\n",
        "\n",
        "plt.figure(figsize=(18, 6))\n",
        "\n",
        "# Plotting the density curve for the original feature\n",
        "plt.subplot(1, 2, 1)\n",
        "sns.kdeplot(df_cleaned['expenses'], fill=True)\n",
        "plt.title('Density Plot of expenses')\n",
        "\n",
        "# Plotting the density curve for the sqrt-transformed feature\n",
        "plt.subplot(1, 2, 2)\n",
        "sns.kdeplot(np.sqrt(df_cleaned['expenses']), fill=True, color='orange')\n",
        "plt.title('Density Plot of sqrt tranformation')"
      ],
      "metadata": {
        "colab": {
          "base_uri": "https://localhost:8080/",
          "height": 400
        },
        "id": "lp52IKCBYsqG",
        "outputId": "62f42b29-c4ac-4708-f85e-934af30525aa"
      },
      "execution_count": null,
      "outputs": [
        {
          "output_type": "execute_result",
          "data": {
            "text/plain": [
              "Text(0.5, 1.0, 'Density Plot of sqrt tranformation')"
            ]
          },
          "metadata": {},
          "execution_count": 90
        },
        {
          "output_type": "display_data",
          "data": {
            "text/plain": [
              "<Figure size 1800x600 with 2 Axes>"
            ],
            "image/png": "[encoded data removed]"
          },
          "metadata": {}
        }
      ]
    },
    {
      "cell_type": "markdown",
      "source": [
        "Apply sqrt transformation to normalize 'expenses' feature distribution"
      ],
      "metadata": {
        "id": "01Ib2AIBZyZW"
      }
    },
    {
      "cell_type": "code",
      "source": [
        "df_cleaned['expenses'] = np.sqrt(df_cleaned['expenses'])"
      ],
      "metadata": {
        "id": "1q__4oJZZhnj"
      },
      "execution_count": null,
      "outputs": []
    },
    {
      "cell_type": "markdown",
      "source": [
        "## Encode Categorical Features"
      ],
      "metadata": {
        "id": "exWCAeYLZ8zN"
      }
    },
    {
      "cell_type": "code",
      "source": [
        "categorical_features = df_cleaned.select_dtypes(include=['object', 'category']).columns.tolist() ## List categorical features"
      ],
      "metadata": {
        "id": "kOI77OrRZa4i"
      },
      "execution_count": null,
      "outputs": []
    },
    {
      "cell_type": "code",
      "source": [
        "categorical_features"
      ],
      "metadata": {
        "colab": {
          "base_uri": "https://localhost:8080/"
        },
        "id": "pS5euygvaH2K",
        "outputId": "844e9cab-cf2a-4c70-d026-56d74c580325"
      },
      "execution_count": null,
      "outputs": [
        {
          "output_type": "execute_result",
          "data": {
            "text/plain": [
              "['sex', 'smoker']"
            ]
          },
          "metadata": {},
          "execution_count": 95
        }
      ]
    },
    {
      "cell_type": "markdown",
      "source": [
        "'sex' and 'smoker' are binary features so we use Label encoding"
      ],
      "metadata": {
        "id": "RUPMpOLTapdb"
      }
    },
    {
      "cell_type": "code",
      "source": [
        "df_cleaned.columns"
      ],
      "metadata": {
        "colab": {
          "base_uri": "https://localhost:8080/"
        },
        "id": "-eTjStPNaR6u",
        "outputId": "eb31c14b-c262-4084-a622-c173ac688676"
      },
      "execution_count": null,
      "outputs": [
        {
          "output_type": "execute_result",
          "data": {
            "text/plain": [
              "Index(['sex', 'bmi', 'children', 'smoker', 'expenses', 'weight', 'height',\n",
              "       'age', 'Sex_encoded'],\n",
              "      dtype='object')"
            ]
          },
          "metadata": {},
          "execution_count": 143
        }
      ]
    },
    {
      "cell_type": "code",
      "source": [
        "df_cleaned.sex.value_counts()"
      ],
      "metadata": {
        "colab": {
          "base_uri": "https://localhost:8080/"
        },
        "id": "wLbtLcriegPV",
        "outputId": "d077ab3a-2608-492f-9908-168664aeb3df"
      },
      "execution_count": null,
      "outputs": [
        {
          "output_type": "execute_result",
          "data": {
            "text/plain": [
              "male      651\n",
              "female    644\n",
              "Name: sex, dtype: int64"
            ]
          },
          "metadata": {},
          "execution_count": 144
        }
      ]
    },
    {
      "cell_type": "code",
      "source": [
        "df_cleaned.smoker.value_counts()"
      ],
      "metadata": {
        "colab": {
          "base_uri": "https://localhost:8080/"
        },
        "id": "l7Ij2JmCeiDs",
        "outputId": "164233e4-cadd-4173-cf63-343cf5308128"
      },
      "execution_count": null,
      "outputs": [
        {
          "output_type": "execute_result",
          "data": {
            "text/plain": [
              "no     1034\n",
              "yes     261\n",
              "Name: smoker, dtype: int64"
            ]
          },
          "metadata": {},
          "execution_count": 145
        }
      ]
    },
    {
      "cell_type": "code",
      "source": [
        "df_cleaned['sex_encoded'] = df_cleaned['sex'].map({'male': 0, 'female': 1})\n",
        "df_cleaned['smoker_encoded'] = df_cleaned['smoker'].map({'no': 0, 'yes': 1})\n",
        "df_cleaned.drop(columns=['sex','smoker'],inplace=True, axis=1)"
      ],
      "metadata": {
        "id": "10QF5nlRfG24"
      },
      "execution_count": null,
      "outputs": []
    },
    {
      "cell_type": "code",
      "source": [
        "df_cleaned.columns"
      ],
      "metadata": {
        "colab": {
          "base_uri": "https://localhost:8080/"
        },
        "id": "vWnIF2Plfyh5",
        "outputId": "0b816b4b-f7cf-461e-bb97-1b7859263137"
      },
      "execution_count": null,
      "outputs": [
        {
          "output_type": "execute_result",
          "data": {
            "text/plain": [
              "Index(['bmi', 'children', 'expenses', 'weight', 'height', 'age', 'sex_encoded',\n",
              "       'smoker_encoded'],\n",
              "      dtype='object')"
            ]
          },
          "metadata": {},
          "execution_count": 155
        }
      ]
    },
    {
      "cell_type": "markdown",
      "source": [
        "## Correlation analysis"
      ],
      "metadata": {
        "id": "XcKEZH5-gQAt"
      }
    },
    {
      "cell_type": "code",
      "source": [
        "corr_matrix = df_cleaned.corr(numeric_only=True)\n",
        "\n",
        "mask = abs(corr_matrix) < 0.6\n",
        "# Plot the correlation matrix\n",
        "plt.figure(figsize=(10, 10))\n",
        "sns.heatmap(corr_matrix, annot=True, cmap='coolwarm')\n",
        "plt.title('Correlation Matrix')\n",
        "plt.rcParams['font.size'] = 5\n",
        "plt.show()"
      ],
      "metadata": {
        "colab": {
          "base_uri": "https://localhost:8080/",
          "height": 838
        },
        "id": "kqR3ZxQVgMeL",
        "outputId": "6e8f6aa8-7068-4a3c-a1fd-d1448d9e9184"
      },
      "execution_count": null,
      "outputs": [
        {
          "output_type": "display_data",
          "data": {
            "text/plain": [
              "<Figure size 1000x1000 with 2 Axes>"
            ],
            "image/png": "[encoded data removed]"
          },
          "metadata": {}
        }
      ]
    },
    {
      "cell_type": "code",
      "source": [
        "## features with more than 0.85 correlation\n",
        "for col in corr_matrix.columns:\n",
        "    corr_values = corr_matrix[col][(corr_matrix[col] > 0.7) & (corr_matrix[col] < 1.0)]\n",
        "    if not corr_values.empty:\n",
        "        for idx, value in corr_values.items():\n",
        "            print(f\"{col} - {idx}: {value}\")"
      ],
      "metadata": {
        "colab": {
          "base_uri": "https://localhost:8080/",
          "height": 211
        },
        "id": "i6M3y35cgJ1t",
        "outputId": "37e251ec-fa25-4d94-9484-1867797f8702"
      },
      "execution_count": null,
      "outputs": [
        {
          "output_type": "error",
          "ename": "NameError",
          "evalue": "name 'corr_matrix' is not defined",
          "traceback": [
            "\u001b[0;31m---------------------------------------------------------------------------\u001b[0m",
            "\u001b[0;31mNameError\u001b[0m                                 Traceback (most recent call last)",
            "\u001b[0;32m<ipython-input-1-16f7c362d8f9>\u001b[0m in \u001b[0;36m<cell line: 2>\u001b[0;34m()\u001b[0m\n\u001b[1;32m      1\u001b[0m \u001b[0;31m## features with more than 0.85 correlation\u001b[0m\u001b[0;34m\u001b[0m\u001b[0;34m\u001b[0m\u001b[0m\n\u001b[0;32m----> 2\u001b[0;31m \u001b[0;32mfor\u001b[0m \u001b[0mcol\u001b[0m \u001b[0;32min\u001b[0m \u001b[0mcorr_matrix\u001b[0m\u001b[0;34m.\u001b[0m\u001b[0mcolumns\u001b[0m\u001b[0;34m:\u001b[0m\u001b[0;34m\u001b[0m\u001b[0;34m\u001b[0m\u001b[0m\n\u001b[0m\u001b[1;32m      3\u001b[0m     \u001b[0mcorr_values\u001b[0m \u001b[0;34m=\u001b[0m \u001b[0mcorr_matrix\u001b[0m\u001b[0;34m[\u001b[0m\u001b[0mcol\u001b[0m\u001b[0;34m]\u001b[0m\u001b[0;34m[\u001b[0m\u001b[0;34m(\u001b[0m\u001b[0mcorr_matrix\u001b[0m\u001b[0;34m[\u001b[0m\u001b[0mcol\u001b[0m\u001b[0;34m]\u001b[0m \u001b[0;34m>\u001b[0m \u001b[0;36m0.7\u001b[0m\u001b[0;34m)\u001b[0m \u001b[0;34m&\u001b[0m \u001b[0;34m(\u001b[0m\u001b[0mcorr_matrix\u001b[0m\u001b[0;34m[\u001b[0m\u001b[0mcol\u001b[0m\u001b[0;34m]\u001b[0m \u001b[0;34m<\u001b[0m \u001b[0;36m1.0\u001b[0m\u001b[0;34m)\u001b[0m\u001b[0;34m]\u001b[0m\u001b[0;34m\u001b[0m\u001b[0;34m\u001b[0m\u001b[0m\n\u001b[1;32m      4\u001b[0m     \u001b[0;32mif\u001b[0m \u001b[0;32mnot\u001b[0m \u001b[0mcorr_values\u001b[0m\u001b[0;34m.\u001b[0m\u001b[0mempty\u001b[0m\u001b[0;34m:\u001b[0m\u001b[0;34m\u001b[0m\u001b[0;34m\u001b[0m\u001b[0m\n\u001b[1;32m      5\u001b[0m         \u001b[0;32mfor\u001b[0m \u001b[0midx\u001b[0m\u001b[0;34m,\u001b[0m \u001b[0mvalue\u001b[0m \u001b[0;32min\u001b[0m \u001b[0mcorr_values\u001b[0m\u001b[0;34m.\u001b[0m\u001b[0mitems\u001b[0m\u001b[0;34m(\u001b[0m\u001b[0;34m)\u001b[0m\u001b[0;34m:\u001b[0m\u001b[0;34m\u001b[0m\u001b[0;34m\u001b[0m\u001b[0m\n",
            "\u001b[0;31mNameError\u001b[0m: name 'corr_matrix' is not defined"
          ]
        }
      ]
    },
    {
      "cell_type": "markdown",
      "source": [
        "BMI is a calculated value derived from a person's weight and height. And it's normal that correlation is high.\n",
        "Weight and height may have a more direct impact on certain insurance-related factors, such as the cost of coverage for medical conditions related to weight and height. So I will drop BMI."
      ],
      "metadata": {
        "id": "hXfCRp7khUSF"
      }
    },
    {
      "cell_type": "code",
      "source": [
        "df_cleaned.drop(columns='bmi',inplace=True,axis=1)"
      ],
      "metadata": {
        "id": "cg7zfDtkgx5G"
      },
      "execution_count": null,
      "outputs": []
    },
    {
      "cell_type": "code",
      "source": [
        "df_cleaned.columns"
      ],
      "metadata": {
        "colab": {
          "base_uri": "https://localhost:8080/"
        },
        "id": "HpHfW_0-hh65",
        "outputId": "fb9faf81-9539-4cc7-e9a0-821400ec67cd"
      },
      "execution_count": null,
      "outputs": [
        {
          "output_type": "execute_result",
          "data": {
            "text/plain": [
              "Index(['children', 'expenses', 'weight', 'height', 'age', 'sex_encoded',\n",
              "       'smoker_encoded'],\n",
              "      dtype='object')"
            ]
          },
          "metadata": {},
          "execution_count": 164
        }
      ]
    },
    {
      "cell_type": "markdown",
      "source": [
        "# Modeling"
      ],
      "metadata": {
        "id": "L7e0xpFji5xQ"
      }
    },
    {
      "cell_type": "code",
      "source": [
        "# Define features and target variable\n",
        "X = df_cleaned.drop(columns=['expenses'])  # Features\n",
        "y = df_cleaned['expenses']  # Target variable\n",
        "\n",
        "# Split the data into training and testing sets (80% training, 20% testing)\n",
        "X_train, X_test, y_train, y_test = train_test_split(X, y, test_size=0.2, random_state=42)\n",
        "\n",
        "# Print the shapes of the training and testing sets\n",
        "print(\"Training set shapes:\")\n",
        "print(\"X_train:\", X_train.shape)\n",
        "print(\"y_train:\", y_train.shape)\n",
        "print(\"\\nTesting set shapes:\")\n",
        "print(\"X_test:\", X_test.shape)\n",
        "print(\"y_test:\", y_test.shape)"
      ],
      "metadata": {
        "colab": {
          "base_uri": "https://localhost:8080/"
        },
        "id": "9z3h7W6fiaJc",
        "outputId": "f83828dc-41ad-468a-bd22-99142aacb96d"
      },
      "execution_count": null,
      "outputs": [
        {
          "output_type": "stream",
          "name": "stdout",
          "text": [
            "Training set shapes:\n",
            "X_train: (1036, 6)\n",
            "y_train: (1036,)\n",
            "\n",
            "Testing set shapes:\n",
            "X_test: (259, 6)\n",
            "y_test: (259,)\n"
          ]
        }
      ]
    },
    {
      "cell_type": "markdown",
      "source": [
        "## Split the data"
      ],
      "metadata": {
        "id": "YpApQ2OKj7V4"
      }
    },
    {
      "cell_type": "code",
      "source": [
        "from sklearn.linear_model import LinearRegression\n",
        "from sklearn.metrics import mean_squared_error, r2_score\n",
        "import numpy as np\n",
        "\n",
        "# Fit Model 1 using unscaled features\n",
        "model1 = LinearRegression()\n",
        "model1.fit(X_train, y_train)\n",
        "\n",
        "# Make predictions on the testing set\n",
        "y_pred1 = model1.predict(X_test)\n",
        "\n",
        "# Evaluate Model 1 performance\n",
        "mse1 = mean_squared_error(y_test, y_pred1)\n",
        "rmse1 = mse1 ** 0.5\n",
        "r_squared1 = r2_score(y_test, y_pred1)\n",
        "\n",
        "print(\"Model 1 Evaluation Metrics:\")\n",
        "print(\"Mean Squared Error (MSE):\", mse1)\n",
        "print(\"Root Mean Squared Error (RMSE):\", rmse1)\n",
        "print(\"R-squared:\", r_squared1)"
      ],
      "metadata": {
        "colab": {
          "base_uri": "https://localhost:8080/"
        },
        "id": "5mdudvfSjBBj",
        "outputId": "db70f478-8517-4ecc-8a7a-0dcbfe15387d"
      },
      "execution_count": null,
      "outputs": [
        {
          "output_type": "stream",
          "name": "stdout",
          "text": [
            "Model 1 Evaluation Metrics:\n",
            "Mean Squared Error (MSE): 454.88675133207454\n",
            "Root Mean Squared Error (RMSE): 21.32807425277947\n",
            "R-squared: 0.78522747790344\n"
          ]
        }
      ]
    },
    {
      "cell_type": "markdown",
      "source": [
        "## Interpretation of model results"
      ],
      "metadata": {
        "id": "qqlMoKVNj2Ja"
      }
    },
    {
      "cell_type": "markdown",
      "source": [
        "Interpretation:\n",
        "\n",
        "Mean Squared Error (MSE):\n",
        "\n",
        "The MSE measures the average squared difference between the actual and predicted values. In this case, the MSE is approximately 474.9. Lower values of MSE indicate better model performance.\n",
        "Root Mean Squared Error (RMSE):\n",
        "\n",
        "The RMSE is the square root of the MSE, representing the average deviation of the predicted values from the actual values. Here, the RMSE is approximately 21.32. Lower RMSE values indicate better fit of the model to the data.\n",
        "R-squared (R^2):\n",
        "\n",
        "The R-squared value measures the proportion of the variance in the dependent variable (expenses) that is explained by the independent variables (features) in the model. An R-squared value of 0.78 indicates that approximately 78% of the variance in expenses is explained by the features included in the model. Higher R-squared values suggest better goodness of fit.\n",
        "Overall, these evaluation metrics suggest that the multiple linear regression model performs reasonably well on the testing set. The relatively low RMSE and high R-squared indicate that the model captures a significant portion of the variance in expenses and provides a good fit to the data."
      ],
      "metadata": {
        "id": "-U3yM6Pqj0kC"
      }
    },
    {
      "cell_type": "markdown",
      "source": [
        "## Scaling"
      ],
      "metadata": {
        "id": "3ArcxJbbj_KO"
      }
    },
    {
      "cell_type": "code",
      "source": [
        "df_cleaned.columns"
      ],
      "metadata": {
        "colab": {
          "base_uri": "https://localhost:8080/"
        },
        "id": "AYq-9Vr6jUOD",
        "outputId": "d0dbdaed-9962-4111-ca6b-d66face88b09"
      },
      "execution_count": null,
      "outputs": [
        {
          "output_type": "execute_result",
          "data": {
            "text/plain": [
              "Index(['children', 'expenses', 'weight', 'height', 'age', 'sex_encoded',\n",
              "       'smoker_encoded'],\n",
              "      dtype='object')"
            ]
          },
          "metadata": {},
          "execution_count": 170
        }
      ]
    },
    {
      "cell_type": "code",
      "source": [
        "# Define the features to be scaled\n",
        "features_to_scale = ['children', 'weight', 'height', 'age','expenses']\n",
        "\n",
        "# Initialize the StandardScaler\n",
        "scaler = StandardScaler()\n",
        "\n",
        "# Fit and transform the selected features\n",
        "df_scaled = df_cleaned.copy()  # Make a copy of the DataFrame\n",
        "df_scaled[features_to_scale] = scaler.fit_transform(df_scaled[features_to_scale])\n",
        "\n",
        "# Print the first few rows of the scaled DataFrame\n",
        "print(df_scaled.head())"
      ],
      "metadata": {
        "colab": {
          "base_uri": "https://localhost:8080/"
        },
        "id": "Ko9G2VfwkF0-",
        "outputId": "bf5c2330-e690-440c-e758-c52354a8e8aa"
      },
      "execution_count": null,
      "outputs": [
        {
          "output_type": "stream",
          "name": "stdout",
          "text": [
            "   children  expenses    weight    height       age  sex_encoded  \\\n",
            "0 -0.910591  0.546541 -0.242584  1.233830 -1.441840            1   \n",
            "1 -0.083652 -1.340684  0.451678 -0.179585 -1.513134            0   \n",
            "2  1.570227 -0.803467  0.220439 -1.036196 -0.800196            0   \n",
            "3 -0.910591  0.937845 -1.539061  1.283156 -0.443728            0   \n",
            "4 -0.910591 -0.899965 -0.140933 -1.472765 -0.515021            0   \n",
            "\n",
            "   smoker_encoded  \n",
            "0               1  \n",
            "1               0  \n",
            "2               0  \n",
            "3               0  \n",
            "4               0  \n"
          ]
        }
      ]
    },
    {
      "cell_type": "markdown",
      "source": [
        "## Models comparison"
      ],
      "metadata": {
        "id": "hfFjkoxLoJpj"
      }
    },
    {
      "cell_type": "code",
      "source": [
        "X = df_scaled.drop(columns=['expenses'])  # Features\n",
        "y = df_scaled['expenses']  # Target variable\n",
        "\n",
        "# Split the data into training and testing sets (80% training, 20% testing)\n",
        "X_train_scaled, X_test_scaled, y_train_scaled, y_test_scaled = train_test_split(X, y, test_size=0.2, random_state=0)\n",
        "\n",
        "# Print the shapes of the training and testing sets\n",
        "print(\"Training set shapes:\")\n",
        "print(\"X_train:\", X_train.shape)\n",
        "print(\"y_train:\", y_train.shape)\n",
        "print(\"\\nTesting set shapes:\")\n",
        "print(\"X_test:\", X_test.shape)\n",
        "print(\"y_test:\", y_test.shape)"
      ],
      "metadata": {
        "colab": {
          "base_uri": "https://localhost:8080/"
        },
        "id": "kvgdKo_JkY_P",
        "outputId": "3b9d5e34-1f4f-434a-ad89-bf6dcc5eb7b9"
      },
      "execution_count": null,
      "outputs": [
        {
          "output_type": "stream",
          "name": "stdout",
          "text": [
            "Training set shapes:\n",
            "X_train: (1036, 6)\n",
            "y_train: (1036,)\n",
            "\n",
            "Testing set shapes:\n",
            "X_test: (259, 6)\n",
            "y_test: (259,)\n"
          ]
        }
      ]
    },
    {
      "cell_type": "code",
      "source": [
        "# Fit Model 2 using scaled features\n",
        "model2 = LinearRegression()\n",
        "model2.fit(X_train_scaled, y_train_scaled)\n",
        "\n",
        "# Make predictions on the testing set\n",
        "y_pred2 = model2.predict(X_test_scaled)\n",
        "\n",
        "# Evaluate Model 2 performance\n",
        "mse2 = mean_squared_error(y_test_scaled, y_pred2)\n",
        "rmse2 = mse2 ** 0.5\n",
        "r_squared2 = r2_score(y_test_scaled, y_pred2)\n",
        "\n",
        "print(\"\\nModel 2 Evaluation Metrics (Using Scaled Features):\")\n",
        "print(\"Mean Squared Error (MSE):\", mse2)\n",
        "print(\"Root Mean Squared Error (RMSE):\", rmse2)\n",
        "print(\"R-squared:\", r_squared2)\n"
      ],
      "metadata": {
        "colab": {
          "base_uri": "https://localhost:8080/"
        },
        "id": "_RiV-Yc1kqfP",
        "outputId": "a07542e1-dc5d-44b5-f8bb-c8e694022266"
      },
      "execution_count": null,
      "outputs": [
        {
          "output_type": "stream",
          "name": "stdout",
          "text": [
            "\n",
            "Model 2 Evaluation Metrics (Using Scaled Features):\n",
            "Mean Squared Error (MSE): 0.218188677415554\n",
            "Root Mean Squared Error (RMSE): 0.46710670881026106\n",
            "R-squared: 0.7909453515043623\n"
          ]
        }
      ]
    },
    {
      "cell_type": "markdown",
      "source": [
        "Based on the evaluation metrics, Model 2 performed better than Model 1. Here's the justification:\n",
        "\n",
        "Model Performance Comparison:\n",
        "\n",
        "Model 1:\n",
        "MSE: 454.89\n",
        "RMSE: 21.33\n",
        "R-squared: 0.785\n",
        "Model 2 (Using Scaled Features):\n",
        "MSE: 0.218\n",
        "RMSE: 0.467\n",
        "R-squared: 0.791\n",
        "Model 2 has lower MSE and RMSE values, indicating better predictive performance in terms of minimizing prediction errors. Additionally, Model 2 has a slightly higher R-squared value, indicating that it explains a slightly higher proportion of the variance in expenses compared to Model 1."
      ],
      "metadata": {
        "id": "G8cr4tvemrWt"
      }
    },
    {
      "cell_type": "markdown",
      "source": [
        "Feature Names and Coefficients of Model 2:\n",
        "To print the feature names and coefficients of the better-performing model (Model 2), you can use the following code:"
      ],
      "metadata": {
        "id": "4YiTm--luokT"
      }
    },
    {
      "cell_type": "code",
      "source": [
        "# Print feature names and coefficients of Model 2\n",
        "print(\"Feature Coefficients (Model 2):\")\n",
        "for feature, coef in zip(X_train.columns, model2.coef_):\n",
        "    print(f\"{feature}: {coef}\")"
      ],
      "metadata": {
        "colab": {
          "base_uri": "https://localhost:8080/"
        },
        "id": "n53G8U_DktzJ",
        "outputId": "f14659c0-0422-4e3f-ab42-6e595ad7575c"
      },
      "execution_count": null,
      "outputs": [
        {
          "output_type": "stream",
          "name": "stdout",
          "text": [
            "Feature Coefficients (Model 2):\n",
            "children: 0.08199670202915992\n",
            "weight: 0.1170694254342689\n",
            "height: 0.012585923621927425\n",
            "age: 0.41623499951892823\n",
            "sex_encoded: 0.013011592025884061\n",
            "smoker_encoded: 1.9053210876803506\n"
          ]
        }
      ]
    },
    {
      "cell_type": "markdown",
      "source": [
        "## Interpretation of coefficients"
      ],
      "metadata": {
        "id": "o_dZxM6RoDAJ"
      }
    },
    {
      "cell_type": "markdown",
      "source": [
        "\n",
        "Based on the coefficients of Model 2, which uses scaled features, we can interpret the relationship between expenses and the features as follows:\n",
        "\n",
        "Children (children):\n",
        "\n",
        "Coefficient: 0.082\n",
        "Interpretation: For every one-standard deviation increase in the number of children covered by the insurance plan, expenses increase by approximately 0.082 standard deviations. This suggests that having more children is associated with slightly higher insurance expenses, although the effect may not be very large.\n",
        "\n",
        "Weight (weight):\n",
        "\n",
        "Coefficient: 0.117\n",
        "Interpretation: For every one-standard deviation increase in weight, expenses increase by approximately 0.117 standard deviations. This implies that individuals with higher weight tend to have slightly higher insurance expenses, possibly due to increased health risks associated with obesity.\n",
        "\n",
        "Height (height):\n",
        "\n",
        "Coefficient: 0.013\n",
        "Interpretation: For every one-standard deviation increase in height, expenses increase by approximately 0.013 standard deviations. However, the coefficient for height is relatively small compared to other features, suggesting that height may not have a significant impact on insurance expenses.\n",
        "\n",
        "Age (age):\n",
        "\n",
        "Coefficient: 0.416\n",
        "Interpretation: For every one-standard deviation increase in age, expenses increase by approximately 0.416 standard deviations. This indicates that age has a relatively strong positive relationship with insurance expenses, suggesting that older individuals tend to have higher insurance expenses, possibly due to age-related health conditions and increased healthcare needs.\n",
        "\n",
        "Sex (sex_encoded):\n",
        "\n",
        "Coefficient: 0.013\n",
        "Interpretation: The coefficient for sex_encoded suggests that there is a slight positive relationship between sex and expenses. However, since sex is binary encoded, the interpretation should be cautious. This coefficient indicates that male (encoded as 1) tends to have slightly higher expenses compared to female (encoded as 0), after accounting for other factors in the model.\n",
        "\n",
        "Smoker Status (smoker_encoded):\n",
        "\n",
        "Coefficient: 1.905\n",
        "Interpretation: For individuals who are smokers (encoded as 1), expenses increase by approximately 1.905 standard deviations compared to non-smokers (encoded as 0). This coefficient is notably larger compared to other features, indicating that smoking status has a substantial impact on insurance expenses, with smokers incurring significantly higher expenses compared to non-smokers.\n",
        "\n",
        "These interpretations provide insights into how each feature contributes to the prediction of insurance expenses in the better-performing Model 2."
      ],
      "metadata": {
        "id": "qHdZ6wiOnLmY"
      }
    },
    {
      "cell_type": "markdown",
      "source": [
        "# Hyphotesis testing"
      ],
      "metadata": {
        "id": "o9mSwTJ_oi0M"
      }
    },
    {
      "cell_type": "markdown",
      "source": [
        "Null Hypothesis (H0):\n",
        "\n",
        "The mean expenses for people with 0 children are equal to the mean expenses for people with any number of children other than 0.\n",
        "Alternative Hypothesis (H1):\n",
        "\n",
        "The mean expenses for people with 0 children are different from the mean expenses for people with any number of children other than 0."
      ],
      "metadata": {
        "id": "HpJVuALdolRj"
      }
    },
    {
      "cell_type": "code",
      "source": [
        "# Expenses for people with 0 children\n",
        "expenses_0_children = df_cleaned[df_cleaned['children'] == 0]['expenses']\n",
        "\n",
        "# Expenses for people with any number of children other than 0\n",
        "expenses_other_children = df_cleaned[df_cleaned['children'] > 0]['expenses']"
      ],
      "metadata": {
        "id": "L_qO_5OSpK2f"
      },
      "execution_count": null,
      "outputs": []
    },
    {
      "cell_type": "code",
      "source": [
        "# Perform two-sample t-test as we have 2 groups\n",
        "t_statistic, p_value = ttest_ind(expenses_0_children, expenses_other_children)\n",
        "\n",
        "# Print the results\n",
        "print(\"Results of Two-Sample t-test:\")\n",
        "print(\"t-statistic:\", t_statistic)\n",
        "print(\"p-value:\", p_value)\n",
        "\n",
        "# Define significance level\n",
        "alpha = 0.05\n",
        "\n",
        "# Interpret the results\n",
        "if p_value < alpha:\n",
        "    print(\"Reject the null hypothesis. There is a significant difference in the mean expenses between people with 0 children and people with any number of children other than 0.\")\n",
        "else:\n",
        "    print(\"Fail to reject the null hypothesis. There is no significant difference in the mean expenses between people with 0 children and people with any number of children other than 0.\")"
      ],
      "metadata": {
        "colab": {
          "base_uri": "https://localhost:8080/"
        },
        "id": "v2PjODAbm7DI",
        "outputId": "1a07afa3-6b4f-46df-de89-4a9d6d2ced76"
      },
      "execution_count": null,
      "outputs": [
        {
          "output_type": "stream",
          "name": "stdout",
          "text": [
            "Results of Two-Sample t-test:\n",
            "t-statistic: -3.6634630363055645\n",
            "p-value: 0.000258887547668943\n",
            "Reject the null hypothesis. There is a significant difference in the mean expenses between people with 0 children and people with any number of children other than 0.\n"
          ]
        }
      ]
    },
    {
      "cell_type": "markdown",
      "source": [
        "Relationship Between Number of Children and Expenses:\n",
        "\n",
        "The significant difference in mean insurance expenses between the two groups suggests that the presence or absence of children plays a crucial role in determining insurance expenses.\n",
        "\n",
        "Individuals with children may have higher insurance expenses due to increased healthcare needs for their family, including medical care for children, maternity care, and family health insurance plans.\n",
        "\n",
        "On the other hand, individuals without children may have lower insurance expenses as they do not have additional dependents to cover."
      ],
      "metadata": {
        "id": "cWf7236Nr3cO"
      }
    }
  ]
}